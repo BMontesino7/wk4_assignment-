{
  "nbformat": 4,
  "nbformat_minor": 0,
  "metadata": {
    "colab": {
      "name": "Attempt.ipynb",
      "provenance": []
    },
    "kernelspec": {
      "name": "python3",
      "display_name": "Python 3"
    }
  },
  "cells": [
    {
      "cell_type": "code",
      "metadata": {
        "id": "4q0qoKnxcJtc",
        "colab_type": "code",
        "colab": {
          "resources": {
            "http://localhost:8080/nbextensions/google.colab/files.js": {
              "data": "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",
              "ok": true,
              "headers": [
                [
                  "content-type",
                  "application/javascript"
                ]
              ],
              "status": 200,
              "status_text": ""
            }
          },
          "base_uri": "https://localhost:8080/",
          "height": 140
        },
        "outputId": "77bf3a87-a7b1-40b0-a9d0-23e5253e0246"
      },
      "source": [
        "from google.colab import files\n",
        "\n",
        "uploaded = files.upload()"
      ],
      "execution_count": 3,
      "outputs": [
        {
          "output_type": "display_data",
          "data": {
            "text/html": [
              "\n",
              "     <input type=\"file\" id=\"files-903a1a66-75eb-4a01-b6ed-c69bcb2bcccd\" name=\"files[]\" multiple disabled\n",
              "        style=\"border:none\" />\n",
              "     <output id=\"result-903a1a66-75eb-4a01-b6ed-c69bcb2bcccd\">\n",
              "      Upload widget is only available when the cell has been executed in the\n",
              "      current browser session. Please rerun this cell to enable.\n",
              "      </output>\n",
              "      <script src=\"/nbextensions/google.colab/files.js\"></script> "
            ],
            "text/plain": [
              "<IPython.core.display.HTML object>"
            ]
          },
          "metadata": {
            "tags": []
          }
        },
        {
          "output_type": "stream",
          "text": [
            "Saving CrystalClearRadiology.txt to CrystalClearRadiology (1).txt\n",
            "Saving MaxTeslaMRI.csv to MaxTeslaMRI (1).csv\n",
            "Saving SuperScanDiagnostics.csv to SuperScanDiagnostics (1).csv\n"
          ],
          "name": "stdout"
        }
      ]
    },
    {
      "cell_type": "code",
      "metadata": {
        "id": "8xHK6J36b2jo",
        "colab_type": "code",
        "colab": {}
      },
      "source": [
        "import os\n",
        "import pandas as pd \n",
        "import json\n",
        "import seaborn as sns\n",
        "import folium\n",
        "import matplotlib.pyplot as plt\n",
        "import pandas_profiling\n",
        "import io\n",
        "df1 = pd.read_csv('CrystalClearRadiology.txt', delimiter = \"\\t\")\n",
        "df2 = pd.read_csv(io.BytesIO(uploaded['MaxTeslaMRI.csv']))\n",
        "df3 = pd.read_csv(io.BytesIO(uploaded['SuperScanDiagnostics.csv']))"
      ],
      "execution_count": 22,
      "outputs": []
    },
    {
      "cell_type": "code",
      "metadata": {
        "id": "EkI3_sugdUPn",
        "colab_type": "code",
        "colab": {}
      },
      "source": [
        "file1 = \"CrystalClearRadiology.txt\"\n",
        "file2 = \"MaxTeslaMRI.csv\"\n",
        "file3 = \"SuperScanDiagnostics.csv\""
      ],
      "execution_count": 23,
      "outputs": []
    },
    {
      "cell_type": "code",
      "metadata": {
        "id": "ouXgzOI8dffB",
        "colab_type": "code",
        "colab": {
          "base_uri": "https://localhost:8080/",
          "height": 549
        },
        "outputId": "a32d8419-1fb5-4323-e756-33f08680bdec"
      },
      "source": [
        "path1 = file1\n",
        "data1 = pd.read_csv(path1, sep='\\t', header=0)\n",
        "data1.columns = data1.columns.str.replace(r\"[^a-zA-Z\\d\\_]+\", \"\").map(str.lower,data1.columns.all())   ### remove special characters, white space, and make lowercase \n",
        "data1['name_combined'] = data1['claimantlast'] + ', ' + data1['claimantfirst']\n",
        "data1b = data1.rename(columns={'practicename': 'practice_name', \n",
        "                              'accession': 'exam_id',\n",
        "                              'servicelocationpostalcode':'practice_zip',\n",
        "                              'name_combined': 'patient_name',\n",
        "                              'dob': 'patient_dob',\n",
        "                              'claimantsocial':'patient_ssn',\n",
        "                              'dos': 'exam_dos',\n",
        "                              'anatomy':'exam_body_part',\n",
        "                              'invoiceamount':'exam_cost',\n",
        "                              'renderingname':'doctor_last_name',\n",
        "                              'renderingnpi':'doctor_npi'})\n",
        "display((data1b).tail(10))"
      ],
      "execution_count": 24,
      "outputs": [
        {
          "output_type": "display_data",
          "data": {
            "text/html": [
              "<div>\n",
              "<style scoped>\n",
              "    .dataframe tbody tr th:only-of-type {\n",
              "        vertical-align: middle;\n",
              "    }\n",
              "\n",
              "    .dataframe tbody tr th {\n",
              "        vertical-align: top;\n",
              "    }\n",
              "\n",
              "    .dataframe thead th {\n",
              "        text-align: right;\n",
              "    }\n",
              "</style>\n",
              "<table border=\"1\" class=\"dataframe\">\n",
              "  <thead>\n",
              "    <tr style=\"text-align: right;\">\n",
              "      <th></th>\n",
              "      <th>practice_name</th>\n",
              "      <th>practice_zip</th>\n",
              "      <th>exam_id</th>\n",
              "      <th>exam_dos</th>\n",
              "      <th>exam_body_part</th>\n",
              "      <th>exam_cost</th>\n",
              "      <th>doctor_npi</th>\n",
              "      <th>doctor_last_name</th>\n",
              "      <th>claimantlast</th>\n",
              "      <th>claimantfirst</th>\n",
              "      <th>patient_dob</th>\n",
              "      <th>patient_ssn</th>\n",
              "      <th>patient_name</th>\n",
              "    </tr>\n",
              "  </thead>\n",
              "  <tbody>\n",
              "    <tr>\n",
              "      <th>1754</th>\n",
              "      <td>Crystal Clear Radiology</td>\n",
              "      <td>83662</td>\n",
              "      <td>13602</td>\n",
              "      <td>2018-10-13</td>\n",
              "      <td>SHOULDER</td>\n",
              "      <td>985.98</td>\n",
              "      <td>5556650889</td>\n",
              "      <td>Morehouse</td>\n",
              "      <td>Mogensen</td>\n",
              "      <td>Angelo</td>\n",
              "      <td>1983-03-10</td>\n",
              "      <td>000-47-3116</td>\n",
              "      <td>Mogensen, Angelo</td>\n",
              "    </tr>\n",
              "    <tr>\n",
              "      <th>1755</th>\n",
              "      <td>Crystal Clear Radiology</td>\n",
              "      <td>68517</td>\n",
              "      <td>13603</td>\n",
              "      <td>2018-03-31</td>\n",
              "      <td>SHOULDER</td>\n",
              "      <td>331.71</td>\n",
              "      <td>5556650889</td>\n",
              "      <td>Morehouse</td>\n",
              "      <td>Marcus</td>\n",
              "      <td>Milford</td>\n",
              "      <td>1996-10-15</td>\n",
              "      <td>000-86-9844</td>\n",
              "      <td>Marcus, Milford</td>\n",
              "    </tr>\n",
              "    <tr>\n",
              "      <th>1756</th>\n",
              "      <td>Crystal Clear Radiology</td>\n",
              "      <td>1777</td>\n",
              "      <td>13604</td>\n",
              "      <td>2019-02-05</td>\n",
              "      <td>LUMBAR</td>\n",
              "      <td>633.56</td>\n",
              "      <td>5556650889</td>\n",
              "      <td>Morehouse</td>\n",
              "      <td>Korn</td>\n",
              "      <td>Renetta</td>\n",
              "      <td>1962-12-18</td>\n",
              "      <td>000-36-5474</td>\n",
              "      <td>Korn, Renetta</td>\n",
              "    </tr>\n",
              "    <tr>\n",
              "      <th>1757</th>\n",
              "      <td>Crystal Clear Radiology</td>\n",
              "      <td>53915</td>\n",
              "      <td>13605</td>\n",
              "      <td>2018-06-01</td>\n",
              "      <td>CERVICAL</td>\n",
              "      <td>822.45</td>\n",
              "      <td>5556650889</td>\n",
              "      <td>Morehouse</td>\n",
              "      <td>Delapp</td>\n",
              "      <td>Carly</td>\n",
              "      <td>1971-02-22</td>\n",
              "      <td>000-75-1439</td>\n",
              "      <td>Delapp, Carly</td>\n",
              "    </tr>\n",
              "    <tr>\n",
              "      <th>1758</th>\n",
              "      <td>Crystal Clear Radiology</td>\n",
              "      <td>83662</td>\n",
              "      <td>13606</td>\n",
              "      <td>2018-04-05</td>\n",
              "      <td>LUMBAR</td>\n",
              "      <td>955.92</td>\n",
              "      <td>5556650889</td>\n",
              "      <td>Morehouse</td>\n",
              "      <td>Loden</td>\n",
              "      <td>Lilliam</td>\n",
              "      <td>1988-10-04</td>\n",
              "      <td>000-93-6710</td>\n",
              "      <td>Loden, Lilliam</td>\n",
              "    </tr>\n",
              "    <tr>\n",
              "      <th>1759</th>\n",
              "      <td>Crystal Clear Radiology</td>\n",
              "      <td>1777</td>\n",
              "      <td>13607</td>\n",
              "      <td>2018-11-20</td>\n",
              "      <td>KNEE</td>\n",
              "      <td>448.45</td>\n",
              "      <td>5556650889</td>\n",
              "      <td>Morehouse</td>\n",
              "      <td>Corle</td>\n",
              "      <td>Buena</td>\n",
              "      <td>1940-04-20</td>\n",
              "      <td>000-15-3594</td>\n",
              "      <td>Corle, Buena</td>\n",
              "    </tr>\n",
              "    <tr>\n",
              "      <th>1760</th>\n",
              "      <td>Crystal Clear Radiology</td>\n",
              "      <td>1777</td>\n",
              "      <td>13608</td>\n",
              "      <td>2018-10-17</td>\n",
              "      <td>SHOULDER</td>\n",
              "      <td>340.65</td>\n",
              "      <td>5556650889</td>\n",
              "      <td>Morehouse</td>\n",
              "      <td>Eisele</td>\n",
              "      <td>Erminia</td>\n",
              "      <td>1949-03-28</td>\n",
              "      <td>000-38-6361</td>\n",
              "      <td>Eisele, Erminia</td>\n",
              "    </tr>\n",
              "    <tr>\n",
              "      <th>1761</th>\n",
              "      <td>Crystal Clear Radiology</td>\n",
              "      <td>83662</td>\n",
              "      <td>13609</td>\n",
              "      <td>2018-07-28</td>\n",
              "      <td>KNEE</td>\n",
              "      <td>940.26</td>\n",
              "      <td>5556650889</td>\n",
              "      <td>Morehouse</td>\n",
              "      <td>Macek</td>\n",
              "      <td>Lonna</td>\n",
              "      <td>1970-07-05</td>\n",
              "      <td>000-52-2552</td>\n",
              "      <td>Macek, Lonna</td>\n",
              "    </tr>\n",
              "    <tr>\n",
              "      <th>1762</th>\n",
              "      <td>Crystal Clear Radiology</td>\n",
              "      <td>83662</td>\n",
              "      <td>13610</td>\n",
              "      <td>2019-01-31</td>\n",
              "      <td>KNEE</td>\n",
              "      <td>789.72</td>\n",
              "      <td>5556650889</td>\n",
              "      <td>Morehouse</td>\n",
              "      <td>Burke</td>\n",
              "      <td>Winifred</td>\n",
              "      <td>1999-08-31</td>\n",
              "      <td>000-69-1856</td>\n",
              "      <td>Burke, Winifred</td>\n",
              "    </tr>\n",
              "    <tr>\n",
              "      <th>1763</th>\n",
              "      <td>Crystal Clear Radiology</td>\n",
              "      <td>53915</td>\n",
              "      <td>13611</td>\n",
              "      <td>2018-12-09</td>\n",
              "      <td>SHOULDER</td>\n",
              "      <td>956.98</td>\n",
              "      <td>5556650889</td>\n",
              "      <td>Morehouse</td>\n",
              "      <td>Marcus</td>\n",
              "      <td>Janeen</td>\n",
              "      <td>1945-12-04</td>\n",
              "      <td>000-18-8285</td>\n",
              "      <td>Marcus, Janeen</td>\n",
              "    </tr>\n",
              "  </tbody>\n",
              "</table>\n",
              "</div>"
            ],
            "text/plain": [
              "                practice_name  practice_zip  ...  patient_ssn      patient_name\n",
              "1754  Crystal Clear Radiology         83662  ...  000-47-3116  Mogensen, Angelo\n",
              "1755  Crystal Clear Radiology         68517  ...  000-86-9844   Marcus, Milford\n",
              "1756  Crystal Clear Radiology          1777  ...  000-36-5474     Korn, Renetta\n",
              "1757  Crystal Clear Radiology         53915  ...  000-75-1439     Delapp, Carly\n",
              "1758  Crystal Clear Radiology         83662  ...  000-93-6710    Loden, Lilliam\n",
              "1759  Crystal Clear Radiology          1777  ...  000-15-3594      Corle, Buena\n",
              "1760  Crystal Clear Radiology          1777  ...  000-38-6361   Eisele, Erminia\n",
              "1761  Crystal Clear Radiology         83662  ...  000-52-2552      Macek, Lonna\n",
              "1762  Crystal Clear Radiology         83662  ...  000-69-1856   Burke, Winifred\n",
              "1763  Crystal Clear Radiology         53915  ...  000-18-8285    Marcus, Janeen\n",
              "\n",
              "[10 rows x 13 columns]"
            ]
          },
          "metadata": {
            "tags": []
          }
        }
      ]
    },
    {
      "cell_type": "code",
      "metadata": {
        "id": "KpsVSA7-di4O",
        "colab_type": "code",
        "colab": {
          "base_uri": "https://localhost:8080/",
          "height": 549
        },
        "outputId": "f889a25b-8ba0-402f-b0dc-bd0a97847e8e"
      },
      "source": [
        "path2 = file2\n",
        "data2 = pd.read_csv(path2, sep=\"|\")\n",
        "data2.columns = data2.columns.str.replace(r\"[^a-zA-Z\\d\\_]+\", \"\").map(str.lower,data2.columns.all())  ### remove special characters, white space, and make lowercase \n",
        "data2['temp_location'] = 'Max Tesla MRI'\n",
        "data2['temp_name'] = data2['patientlastname'] + ', ' + data2['patientfirstname']\n",
        "data2b = data2.rename(columns={'temp_location': 'practice_name', \n",
        "                              'examid': 'exam_id',\n",
        "                              'facilityzip':'practice_zip',\n",
        "                              'temp_name': 'patient_name',\n",
        "                              'patientdob': 'patient_dob',\n",
        "                              'patientssn':'patient_ssn',\n",
        "                              'examdos': 'exam_dos',\n",
        "                              'bodypart':'exam_body_part',\n",
        "                              'charge':'exam_cost',\n",
        "                              'physician':'doctor_last_name',\n",
        "                              'npi':'doctor_npi'})\n",
        "display((data2b).tail(10))"
      ],
      "execution_count": 8,
      "outputs": [
        {
          "output_type": "display_data",
          "data": {
            "text/html": [
              "<div>\n",
              "<style scoped>\n",
              "    .dataframe tbody tr th:only-of-type {\n",
              "        vertical-align: middle;\n",
              "    }\n",
              "\n",
              "    .dataframe tbody tr th {\n",
              "        vertical-align: top;\n",
              "    }\n",
              "\n",
              "    .dataframe thead th {\n",
              "        text-align: right;\n",
              "    }\n",
              "</style>\n",
              "<table border=\"1\" class=\"dataframe\">\n",
              "  <thead>\n",
              "    <tr style=\"text-align: right;\">\n",
              "      <th></th>\n",
              "      <th>exam_id</th>\n",
              "      <th>exam_dos</th>\n",
              "      <th>exam_body_part</th>\n",
              "      <th>exam_cost</th>\n",
              "      <th>patientlastname</th>\n",
              "      <th>patientfirstname</th>\n",
              "      <th>patient_dob</th>\n",
              "      <th>patient_ssn</th>\n",
              "      <th>doctor_npi</th>\n",
              "      <th>doctor_last_name</th>\n",
              "      <th>practice_zip</th>\n",
              "      <th>practice_name</th>\n",
              "      <th>patient_name</th>\n",
              "    </tr>\n",
              "  </thead>\n",
              "  <tbody>\n",
              "    <tr>\n",
              "      <th>1757</th>\n",
              "      <td>15369</td>\n",
              "      <td>2018-04-22</td>\n",
              "      <td>brain</td>\n",
              "      <td>629.16</td>\n",
              "      <td>Moldenhauer</td>\n",
              "      <td>Donte</td>\n",
              "      <td>1981-03-08</td>\n",
              "      <td>000-58-5593</td>\n",
              "      <td>5553883607</td>\n",
              "      <td>Moldenhauer</td>\n",
              "      <td>93449-1836</td>\n",
              "      <td>Max Tesla MRI</td>\n",
              "      <td>Moldenhauer, Donte</td>\n",
              "    </tr>\n",
              "    <tr>\n",
              "      <th>1758</th>\n",
              "      <td>15370</td>\n",
              "      <td>2018-06-06</td>\n",
              "      <td>neck</td>\n",
              "      <td>979.72</td>\n",
              "      <td>Lumpkins</td>\n",
              "      <td>Meggan</td>\n",
              "      <td>1949-12-12</td>\n",
              "      <td>000-46-9347</td>\n",
              "      <td>5553883607</td>\n",
              "      <td>Moldenhauer</td>\n",
              "      <td>16812-7803</td>\n",
              "      <td>Max Tesla MRI</td>\n",
              "      <td>Lumpkins, Meggan</td>\n",
              "    </tr>\n",
              "    <tr>\n",
              "      <th>1759</th>\n",
              "      <td>15371</td>\n",
              "      <td>2018-10-14</td>\n",
              "      <td>brain</td>\n",
              "      <td>692.19</td>\n",
              "      <td>Ricklefs</td>\n",
              "      <td>Mercedes</td>\n",
              "      <td>1996-03-30</td>\n",
              "      <td>000-27-4740</td>\n",
              "      <td>5553883607</td>\n",
              "      <td>Moldenhauer</td>\n",
              "      <td>88690-3452</td>\n",
              "      <td>Max Tesla MRI</td>\n",
              "      <td>Ricklefs, Mercedes</td>\n",
              "    </tr>\n",
              "    <tr>\n",
              "      <th>1760</th>\n",
              "      <td>15372</td>\n",
              "      <td>2018-11-23</td>\n",
              "      <td>knee</td>\n",
              "      <td>768.29</td>\n",
              "      <td>Morehouse</td>\n",
              "      <td>Meggan</td>\n",
              "      <td>1948-09-23</td>\n",
              "      <td>000-55-8686</td>\n",
              "      <td>5553883607</td>\n",
              "      <td>Moldenhauer</td>\n",
              "      <td>10080-1437</td>\n",
              "      <td>Max Tesla MRI</td>\n",
              "      <td>Morehouse, Meggan</td>\n",
              "    </tr>\n",
              "    <tr>\n",
              "      <th>1761</th>\n",
              "      <td>15373</td>\n",
              "      <td>2018-09-03</td>\n",
              "      <td>shoulder</td>\n",
              "      <td>344.48</td>\n",
              "      <td>Laborde</td>\n",
              "      <td>Lilliam</td>\n",
              "      <td>1962-02-08</td>\n",
              "      <td>000-74-9152</td>\n",
              "      <td>5553883607</td>\n",
              "      <td>Moldenhauer</td>\n",
              "      <td>16812-3237</td>\n",
              "      <td>Max Tesla MRI</td>\n",
              "      <td>Laborde, Lilliam</td>\n",
              "    </tr>\n",
              "    <tr>\n",
              "      <th>1762</th>\n",
              "      <td>15374</td>\n",
              "      <td>2018-02-05</td>\n",
              "      <td>shoulder</td>\n",
              "      <td>928.74</td>\n",
              "      <td>Delapp</td>\n",
              "      <td>Chante</td>\n",
              "      <td>1945-10-10</td>\n",
              "      <td>000-92-9199</td>\n",
              "      <td>5553883607</td>\n",
              "      <td>Moldenhauer</td>\n",
              "      <td>10080-5625</td>\n",
              "      <td>Max Tesla MRI</td>\n",
              "      <td>Delapp, Chante</td>\n",
              "    </tr>\n",
              "    <tr>\n",
              "      <th>1763</th>\n",
              "      <td>15375</td>\n",
              "      <td>2018-08-03</td>\n",
              "      <td>cervical</td>\n",
              "      <td>530.57</td>\n",
              "      <td>Ricklefs</td>\n",
              "      <td>Buena</td>\n",
              "      <td>1978-07-13</td>\n",
              "      <td>000-69-3052</td>\n",
              "      <td>5553883607</td>\n",
              "      <td>Moldenhauer</td>\n",
              "      <td>93449-6317</td>\n",
              "      <td>Max Tesla MRI</td>\n",
              "      <td>Ricklefs, Buena</td>\n",
              "    </tr>\n",
              "    <tr>\n",
              "      <th>1764</th>\n",
              "      <td>15376</td>\n",
              "      <td>2018-10-21</td>\n",
              "      <td>neck</td>\n",
              "      <td>358.67</td>\n",
              "      <td>Corle</td>\n",
              "      <td>Janeen</td>\n",
              "      <td>1970-10-22</td>\n",
              "      <td>000-67-9527</td>\n",
              "      <td>5553883607</td>\n",
              "      <td>Moldenhauer</td>\n",
              "      <td>16812-2208</td>\n",
              "      <td>Max Tesla MRI</td>\n",
              "      <td>Corle, Janeen</td>\n",
              "    </tr>\n",
              "    <tr>\n",
              "      <th>1765</th>\n",
              "      <td>15377</td>\n",
              "      <td>2018-12-17</td>\n",
              "      <td>shoulder</td>\n",
              "      <td>328.15</td>\n",
              "      <td>Ansell</td>\n",
              "      <td>Fausto</td>\n",
              "      <td>1977-07-29</td>\n",
              "      <td>000-17-1199</td>\n",
              "      <td>5553883607</td>\n",
              "      <td>Moldenhauer</td>\n",
              "      <td>63374-5191</td>\n",
              "      <td>Max Tesla MRI</td>\n",
              "      <td>Ansell, Fausto</td>\n",
              "    </tr>\n",
              "    <tr>\n",
              "      <th>1766</th>\n",
              "      <td>15378</td>\n",
              "      <td>2018-11-29</td>\n",
              "      <td>brain</td>\n",
              "      <td>206.77</td>\n",
              "      <td>Moldenhauer</td>\n",
              "      <td>Lonna</td>\n",
              "      <td>1942-04-22</td>\n",
              "      <td>000-30-5450</td>\n",
              "      <td>5553883607</td>\n",
              "      <td>Moldenhauer</td>\n",
              "      <td>63374-8146</td>\n",
              "      <td>Max Tesla MRI</td>\n",
              "      <td>Moldenhauer, Lonna</td>\n",
              "    </tr>\n",
              "  </tbody>\n",
              "</table>\n",
              "</div>"
            ],
            "text/plain": [
              "      exam_id    exam_dos  ...  practice_name        patient_name\n",
              "1757    15369  2018-04-22  ...  Max Tesla MRI  Moldenhauer, Donte\n",
              "1758    15370  2018-06-06  ...  Max Tesla MRI    Lumpkins, Meggan\n",
              "1759    15371  2018-10-14  ...  Max Tesla MRI  Ricklefs, Mercedes\n",
              "1760    15372  2018-11-23  ...  Max Tesla MRI   Morehouse, Meggan\n",
              "1761    15373  2018-09-03  ...  Max Tesla MRI    Laborde, Lilliam\n",
              "1762    15374  2018-02-05  ...  Max Tesla MRI      Delapp, Chante\n",
              "1763    15375  2018-08-03  ...  Max Tesla MRI     Ricklefs, Buena\n",
              "1764    15376  2018-10-21  ...  Max Tesla MRI       Corle, Janeen\n",
              "1765    15377  2018-12-17  ...  Max Tesla MRI      Ansell, Fausto\n",
              "1766    15378  2018-11-29  ...  Max Tesla MRI  Moldenhauer, Lonna\n",
              "\n",
              "[10 rows x 13 columns]"
            ]
          },
          "metadata": {
            "tags": []
          }
        }
      ]
    },
    {
      "cell_type": "code",
      "metadata": {
        "id": "ZDmbfa2wdsjl",
        "colab_type": "code",
        "colab": {
          "base_uri": "https://localhost:8080/",
          "height": 549
        },
        "outputId": "ee9b7ce1-947b-446f-b1e2-545c7ae9e251"
      },
      "source": [
        "path3 = file3\n",
        "data3 = pd.read_csv(path3)\n",
        "data3.columns = data3.columns.str.replace(r\"[^a-zA-Z\\d\\_]+\", \"\").map(str.lower,data3.columns.all())  ### remove special characters, white space, and make lowercase \n",
        "data3['temp_location'] = 'Super Scan Diagnostics'\n",
        "data3b = data3.rename(columns={'temp_location': 'practice_name', \n",
        "                              'servicenumber': 'exam_id',\n",
        "                              'servicezip':'practice_zip',\n",
        "                              'patientname': 'patient_name',\n",
        "                              'patientbirthdate': 'patient_dob',\n",
        "                              'claimantssn':'patient_ssn',\n",
        "                              'examdate': 'exam_dos',\n",
        "                              'exambodypart':'exam_body_part',\n",
        "                              'examcost':'exam_cost',\n",
        "                              'doctorname':'doctor_last_name',\n",
        "                              'doctornpi':'doctor_npi'})\n",
        "display((data3b).tail(10))"
      ],
      "execution_count": 9,
      "outputs": [
        {
          "output_type": "display_data",
          "data": {
            "text/html": [
              "<div>\n",
              "<style scoped>\n",
              "    .dataframe tbody tr th:only-of-type {\n",
              "        vertical-align: middle;\n",
              "    }\n",
              "\n",
              "    .dataframe tbody tr th {\n",
              "        vertical-align: top;\n",
              "    }\n",
              "\n",
              "    .dataframe thead th {\n",
              "        text-align: right;\n",
              "    }\n",
              "</style>\n",
              "<table border=\"1\" class=\"dataframe\">\n",
              "  <thead>\n",
              "    <tr style=\"text-align: right;\">\n",
              "      <th></th>\n",
              "      <th>exam_id</th>\n",
              "      <th>practice_zip</th>\n",
              "      <th>exam_dos</th>\n",
              "      <th>exam_body_part</th>\n",
              "      <th>exam_cost</th>\n",
              "      <th>doctor_npi</th>\n",
              "      <th>doctor_last_name</th>\n",
              "      <th>patient_name</th>\n",
              "      <th>patient_dob</th>\n",
              "      <th>patient_ssn</th>\n",
              "      <th>practice_name</th>\n",
              "    </tr>\n",
              "  </thead>\n",
              "  <tbody>\n",
              "    <tr>\n",
              "      <th>1838</th>\n",
              "      <td>11838</td>\n",
              "      <td>51586</td>\n",
              "      <td>2019-01-19</td>\n",
              "      <td>cervical</td>\n",
              "      <td>545.48</td>\n",
              "      <td>5553283038</td>\n",
              "      <td>Macek</td>\n",
              "      <td>Delapp, Donte</td>\n",
              "      <td>1991-03-25</td>\n",
              "      <td>000-74-2407</td>\n",
              "      <td>Super Scan Diagnostics</td>\n",
              "    </tr>\n",
              "    <tr>\n",
              "      <th>1839</th>\n",
              "      <td>11839</td>\n",
              "      <td>47783</td>\n",
              "      <td>2018-05-19</td>\n",
              "      <td>cervical</td>\n",
              "      <td>407.93</td>\n",
              "      <td>5553283038</td>\n",
              "      <td>Macek</td>\n",
              "      <td>Leibowitz, Lonna</td>\n",
              "      <td>1980-09-08</td>\n",
              "      <td>000-93-2116</td>\n",
              "      <td>Super Scan Diagnostics</td>\n",
              "    </tr>\n",
              "    <tr>\n",
              "      <th>1840</th>\n",
              "      <td>11840</td>\n",
              "      <td>47783</td>\n",
              "      <td>2018-06-17</td>\n",
              "      <td>lumbar</td>\n",
              "      <td>603.37</td>\n",
              "      <td>5553283038</td>\n",
              "      <td>Macek</td>\n",
              "      <td>Loudon, Fausto</td>\n",
              "      <td>1947-02-07</td>\n",
              "      <td>000-97-4357</td>\n",
              "      <td>Super Scan Diagnostics</td>\n",
              "    </tr>\n",
              "    <tr>\n",
              "      <th>1841</th>\n",
              "      <td>11841</td>\n",
              "      <td>47783</td>\n",
              "      <td>2018-11-28</td>\n",
              "      <td>cervical</td>\n",
              "      <td>301.96</td>\n",
              "      <td>5553283038</td>\n",
              "      <td>Macek</td>\n",
              "      <td>Corle, Renetta</td>\n",
              "      <td>1992-02-13</td>\n",
              "      <td>000-93-8986</td>\n",
              "      <td>Super Scan Diagnostics</td>\n",
              "    </tr>\n",
              "    <tr>\n",
              "      <th>1842</th>\n",
              "      <td>11842</td>\n",
              "      <td>73608</td>\n",
              "      <td>2018-06-18</td>\n",
              "      <td>lumbar</td>\n",
              "      <td>434.84</td>\n",
              "      <td>5553283038</td>\n",
              "      <td>Macek</td>\n",
              "      <td>Rosser, Marchelle</td>\n",
              "      <td>1968-06-25</td>\n",
              "      <td>000-56-5591</td>\n",
              "      <td>Super Scan Diagnostics</td>\n",
              "    </tr>\n",
              "    <tr>\n",
              "      <th>1843</th>\n",
              "      <td>11843</td>\n",
              "      <td>76907</td>\n",
              "      <td>2018-08-25</td>\n",
              "      <td>lumbar</td>\n",
              "      <td>382.74</td>\n",
              "      <td>5553283038</td>\n",
              "      <td>Macek</td>\n",
              "      <td>Korn, Marchelle</td>\n",
              "      <td>1972-12-21</td>\n",
              "      <td>000-75-5433</td>\n",
              "      <td>Super Scan Diagnostics</td>\n",
              "    </tr>\n",
              "    <tr>\n",
              "      <th>1844</th>\n",
              "      <td>11844</td>\n",
              "      <td>76907</td>\n",
              "      <td>2018-07-31</td>\n",
              "      <td>lumbar</td>\n",
              "      <td>630.23</td>\n",
              "      <td>5553283038</td>\n",
              "      <td>Macek</td>\n",
              "      <td>Demaree, Charmain</td>\n",
              "      <td>1949-05-12</td>\n",
              "      <td>000-71-4963</td>\n",
              "      <td>Super Scan Diagnostics</td>\n",
              "    </tr>\n",
              "    <tr>\n",
              "      <th>1845</th>\n",
              "      <td>11845</td>\n",
              "      <td>73170</td>\n",
              "      <td>2019-02-26</td>\n",
              "      <td>cervical</td>\n",
              "      <td>191.68</td>\n",
              "      <td>5553283038</td>\n",
              "      <td>Macek</td>\n",
              "      <td>Rosser, Desire</td>\n",
              "      <td>1969-01-26</td>\n",
              "      <td>000-19-8166</td>\n",
              "      <td>Super Scan Diagnostics</td>\n",
              "    </tr>\n",
              "    <tr>\n",
              "      <th>1846</th>\n",
              "      <td>11846</td>\n",
              "      <td>51586</td>\n",
              "      <td>2018-11-08</td>\n",
              "      <td>lumbar</td>\n",
              "      <td>769.87</td>\n",
              "      <td>5553283038</td>\n",
              "      <td>Macek</td>\n",
              "      <td>Moldenhauer, Chante</td>\n",
              "      <td>1945-07-15</td>\n",
              "      <td>000-79-1838</td>\n",
              "      <td>Super Scan Diagnostics</td>\n",
              "    </tr>\n",
              "    <tr>\n",
              "      <th>1847</th>\n",
              "      <td>11847</td>\n",
              "      <td>73170</td>\n",
              "      <td>2018-08-05</td>\n",
              "      <td>lumbar</td>\n",
              "      <td>757.17</td>\n",
              "      <td>5553283038</td>\n",
              "      <td>Macek</td>\n",
              "      <td>Knop, Desire</td>\n",
              "      <td>1976-08-25</td>\n",
              "      <td>000-83-8526</td>\n",
              "      <td>Super Scan Diagnostics</td>\n",
              "    </tr>\n",
              "  </tbody>\n",
              "</table>\n",
              "</div>"
            ],
            "text/plain": [
              "      exam_id  practice_zip  ...  patient_ssn           practice_name\n",
              "1838    11838         51586  ...  000-74-2407  Super Scan Diagnostics\n",
              "1839    11839         47783  ...  000-93-2116  Super Scan Diagnostics\n",
              "1840    11840         47783  ...  000-97-4357  Super Scan Diagnostics\n",
              "1841    11841         47783  ...  000-93-8986  Super Scan Diagnostics\n",
              "1842    11842         73608  ...  000-56-5591  Super Scan Diagnostics\n",
              "1843    11843         76907  ...  000-75-5433  Super Scan Diagnostics\n",
              "1844    11844         76907  ...  000-71-4963  Super Scan Diagnostics\n",
              "1845    11845         73170  ...  000-19-8166  Super Scan Diagnostics\n",
              "1846    11846         51586  ...  000-79-1838  Super Scan Diagnostics\n",
              "1847    11847         73170  ...  000-83-8526  Super Scan Diagnostics\n",
              "\n",
              "[10 rows x 11 columns]"
            ]
          },
          "metadata": {
            "tags": []
          }
        }
      ]
    },
    {
      "cell_type": "code",
      "metadata": {
        "id": "NzRbRXjPd2LE",
        "colab_type": "code",
        "colab": {}
      },
      "source": [
        "def vars_to_keep(dataframe):\n",
        "    dataframe = dataframe[['practice_name','exam_id',\n",
        "                 'practice_zip',\n",
        "                 'patient_name',\n",
        "                 'patient_dob',\n",
        "                 'patient_ssn',\n",
        "                 'exam_dos',\n",
        "                 'exam_body_part',\n",
        "                 'exam_cost',\n",
        "                 'doctor_last_name',\n",
        "                 'doctor_npi']]  ###keep only those new columns we care about \n",
        "    return dataframe"
      ],
      "execution_count": 10,
      "outputs": []
    },
    {
      "cell_type": "code",
      "metadata": {
        "id": "4jRDP_c-d3ZG",
        "colab_type": "code",
        "colab": {}
      },
      "source": [
        "data1c = vars_to_keep(data1b)\n",
        "data2c = vars_to_keep(data2b)\n",
        "data3c = vars_to_keep(data3b)"
      ],
      "execution_count": 11,
      "outputs": []
    },
    {
      "cell_type": "code",
      "metadata": {
        "id": "vAl3uU27np3m",
        "colab_type": "code",
        "colab": {
          "base_uri": "https://localhost:8080/",
          "height": 51
        },
        "outputId": "1344c38f-7de4-4e0d-998e-a59ebde35dcf"
      },
      "source": [
        "days=180    \n",
        "\n",
        "df1 = (data_merged[data_merged['practice_name'] == 'Super Scan Diagnostics']).sort_values(by=['exam_dos'], ascending=False)\n",
        "df2 = (data_merged[data_merged['practice_name'] == 'Max Tesla MRI']).sort_values(by=['exam_dos'], ascending=False)\n",
        "df3 = (data_merged[data_merged['practice_name'] == 'Crystal Clear Radiology']).sort_values(by=['exam_dos'], ascending=False)\n",
        "\n",
        "cutoff_date_df1 = df1[\"exam_dos\"].iloc[1] - pd.Timedelta(days=days)\n",
        "cutoff_date_df2 = df2[\"exam_dos\"].iloc[1] - pd.Timedelta(days=days)\n",
        "cutoff_date_df3 = df3[\"exam_dos\"].iloc[1] - pd.Timedelta(days=days)\n",
        "\n",
        "df1 = df1[df1['exam_dos'] >= cutoff_date_df1] \n",
        "df2 = df2[df2['exam_dos'] >= cutoff_date_df2] \n",
        "df3 = df3[df3['exam_dos'] >= cutoff_date_df3] \n",
        "\n",
        "data_merged_timecutt = pd.concat([df1,df2,df3])\n",
        "\n",
        "print(\"rows and columns count below:\")\n",
        "display(data_merged_timecutt.shape)"
      ],
      "execution_count": 27,
      "outputs": [
        {
          "output_type": "stream",
          "text": [
            "rows and columns count below:\n"
          ],
          "name": "stdout"
        },
        {
          "output_type": "display_data",
          "data": {
            "text/plain": [
              "(2966, 17)"
            ]
          },
          "metadata": {
            "tags": []
          }
        }
      ]
    },
    {
      "cell_type": "code",
      "metadata": {
        "id": "xST7ebVwn7OZ",
        "colab_type": "code",
        "colab": {
          "base_uri": "https://localhost:8080/",
          "height": 515
        },
        "outputId": "82e75c5f-db00-4fe4-f62e-29bd90221f75"
      },
      "source": [
        "### plot 1 - BY SPECIALTY \n",
        "plt.figure(figsize=(15,8))\n",
        "sns.countplot(x='specialty_mapping',data=data_merged_timecutt, palette=\"coolwarm\",)"
      ],
      "execution_count": 28,
      "outputs": [
        {
          "output_type": "execute_result",
          "data": {
            "text/plain": [
              "<matplotlib.axes._subplots.AxesSubplot at 0x7f82a467a3c8>"
            ]
          },
          "metadata": {
            "tags": []
          },
          "execution_count": 28
        },
        {
          "output_type": "display_data",
          "data": {
            "image/png": "[encoded data removed]",
            "text/plain": [
              "<Figure size 1080x576 with 1 Axes>"
            ]
          },
          "metadata": {
            "tags": [],
            "needs_background": "light"
          }
        }
      ]
    },
    {
      "cell_type": "code",
      "metadata": {
        "id": "mw9OtPahn99M",
        "colab_type": "code",
        "colab": {
          "base_uri": "https://localhost:8080/",
          "height": 514
        },
        "outputId": "7148d4d1-d45a-48c6-8d6c-0866e944e83a"
      },
      "source": [
        "### plot 2 - BY SPECIALTY AND PRACTICE WITH TIME CUT OFF (e.g., 180 days)\n",
        "plt.figure(figsize=(15,8))\n",
        "sns.countplot(y=\"practice_name\", hue=\"specialty_mapping\", data=data_merged_timecutt, palette=\"coolwarm\")"
      ],
      "execution_count": 29,
      "outputs": [
        {
          "output_type": "execute_result",
          "data": {
            "text/plain": [
              "<matplotlib.axes._subplots.AxesSubplot at 0x7f82a4676128>"
            ]
          },
          "metadata": {
            "tags": []
          },
          "execution_count": 29
        },
        {
          "output_type": "display_data",
          "data": {
            "image/png": "[encoded data removed]",
            "text/plain": [
              "<Figure size 1080x576 with 1 Axes>"
            ]
          },
          "metadata": {
            "tags": [],
            "needs_background": "light"
          }
        }
      ]
    },
    {
      "cell_type": "code",
      "metadata": {
        "id": "ERrf9VmioMyJ",
        "colab_type": "code",
        "colab": {
          "base_uri": "https://localhost:8080/",
          "height": 514
        },
        "outputId": "d9b3943d-bbbb-4fa4-9d4f-3ac8a023166a"
      },
      "source": [
        "### plot 2.A - BY SPECIALTY AND PRACTICE WITH NO TIME CUT OFF (e.g., dont care about 180 more recent days)\n",
        "plt.figure(figsize=(15,8))\n",
        "sns.countplot(y=\"practice_name\", hue=\"specialty_mapping\", data=data_merged, palette=\"coolwarm\")\n",
        "#the below shows there is pretty little difference, between 180 day cut off and non-180 day cut off "
      ],
      "execution_count": 30,
      "outputs": [
        {
          "output_type": "execute_result",
          "data": {
            "text/plain": [
              "<matplotlib.axes._subplots.AxesSubplot at 0x7f82a40442e8>"
            ]
          },
          "metadata": {
            "tags": []
          },
          "execution_count": 30
        },
        {
          "output_type": "display_data",
          "data": {
            "image/png": "[encoded data removed]",
            "text/plain": [
              "<Figure size 1080x576 with 1 Axes>"
            ]
          },
          "metadata": {
            "tags": [],
            "needs_background": "light"
          }
        }
      ]
    },
    {
      "cell_type": "code",
      "metadata": {
        "id": "jBftedO3o3Ya",
        "colab_type": "code",
        "colab": {}
      },
      "source": [
        "time = data_merged_timecutt\n",
        "time = time[['practice_name','specialty_mapping', 'exam_dos', 'exam_cost', 'exam_yearmonth','exam_month','exam_quarter','exam_year','exam_season']]"
      ],
      "execution_count": 31,
      "outputs": []
    },
    {
      "cell_type": "code",
      "metadata": {
        "id": "Tx6SdyTvpQBo",
        "colab_type": "code",
        "colab": {
          "base_uri": "https://localhost:8080/",
          "height": 517
        },
        "outputId": "269852e9-a0d7-4aff-a143-b827c1b158ad"
      },
      "source": [
        "plt.figure(figsize=(15,8))\n",
        "sns.countplot(x=\"exam_season\", data=time, palette=\"coolwarm\") #winder drop in utilization // \n",
        "## differences in utilization based on season - NOTE - this will be off since we are only looking at LAST 180 days, versus 365 days // "
      ],
      "execution_count": 32,
      "outputs": [
        {
          "output_type": "execute_result",
          "data": {
            "text/plain": [
              "<matplotlib.axes._subplots.AxesSubplot at 0x7f82a465b4a8>"
            ]
          },
          "metadata": {
            "tags": []
          },
          "execution_count": 32
        },
        {
          "output_type": "display_data",
          "data": {
            "image/png": "[encoded data removed]",
            "text/plain": [
              "<Figure size 1080x576 with 1 Axes>"
            ]
          },
          "metadata": {
            "tags": [],
            "needs_background": "light"
          }
        }
      ]
    }
  ]
}