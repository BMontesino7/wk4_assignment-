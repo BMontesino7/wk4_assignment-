{
  "nbformat": 4,
  "nbformat_minor": 0,
  "metadata": {
    "colab": {
      "name": "Assignment_4A.ipynb Finalized",
      "provenance": []
    },
    "kernelspec": {
      "name": "python3",
      "display_name": "Python 3"
    }
  },
  "cells": [
    {
      "cell_type": "code",
      "metadata": {
        "id": "8M64ooIsJKsm",
        "colab_type": "code",
        "colab": {
          "resources": {
            "http://localhost:8080/nbextensions/google.colab/files.js": {
              "data": "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",
              "ok": true,
              "headers": [
                [
                  "content-type",
                  "application/javascript"
                ]
              ],
              "status": 200,
              "status_text": ""
            }
          },
          "base_uri": "https://localhost:8080/",
          "height": 72
        },
        "outputId": "b2c25f4d-bc2c-464c-fd3b-7be4efd23063"
      },
      "source": [
        "from google.colab import files\n",
        "\n",
        "uploaded = files.upload()"
      ],
      "execution_count": 1,
      "outputs": [
        {
          "output_type": "display_data",
          "data": {
            "text/html": [
              "\n",
              "     <input type=\"file\" id=\"files-a297b7bc-a2cc-4173-8ac1-c7096bf5e6a8\" name=\"files[]\" multiple disabled\n",
              "        style=\"border:none\" />\n",
              "     <output id=\"result-a297b7bc-a2cc-4173-8ac1-c7096bf5e6a8\">\n",
              "      Upload widget is only available when the cell has been executed in the\n",
              "      current browser session. Please rerun this cell to enable.\n",
              "      </output>\n",
              "      <script src=\"/nbextensions/google.colab/files.js\"></script> "
            ],
            "text/plain": [
              "<IPython.core.display.HTML object>"
            ]
          },
          "metadata": {
            "tags": []
          }
        },
        {
          "output_type": "stream",
          "text": [
            "Saving SuperScanDiagnostics.csv to SuperScanDiagnostics.csv\n"
          ],
          "name": "stdout"
        }
      ]
    },
    {
      "cell_type": "markdown",
      "metadata": {
        "id": "acj5YeHVZQvI",
        "colab_type": "text"
      },
      "source": [
        "Import clean csv file in the zip, one is txt. the other has alot of white spaces/fomatting issues \n"
      ]
    },
    {
      "cell_type": "code",
      "metadata": {
        "id": "LUumn67SPMjn",
        "colab_type": "code",
        "colab": {}
      },
      "source": [
        "import io\n",
        "import pandas as pd \n",
        "df = pd.read_csv(io.BytesIO(uploaded['SuperScanDiagnostics.csv']))"
      ],
      "execution_count": 2,
      "outputs": []
    },
    {
      "cell_type": "markdown",
      "metadata": {
        "id": "YD1swvYeYEAz",
        "colab_type": "text"
      },
      "source": [
        "In order to avoid issues with white spaces in the columns \n",
        "\n"
      ]
    },
    {
      "cell_type": "code",
      "metadata": {
        "id": "X0FSFgLcmtO5",
        "colab_type": "code",
        "colab": {}
      },
      "source": [
        "# Must insert a code that will replace (' ') to (\"_\").\n",
        "df.columns = df.columns.str.strip().str.lower().str.replace(' ', '_').str.replace('(', '').str.replace(')', '')"
      ],
      "execution_count": 3,
      "outputs": []
    },
    {
      "cell_type": "code",
      "metadata": {
        "id": "mOPXJ5sGhXj5",
        "colab_type": "code",
        "colab": {
          "base_uri": "https://localhost:8080/",
          "height": 507
        },
        "outputId": "802f9bea-1f29-414e-90f0-1a1f8bc73afa"
      },
      "source": [
        "df"
      ],
      "execution_count": 4,
      "outputs": [
        {
          "output_type": "execute_result",
          "data": {
            "text/html": [
              "<div>\n",
              "<style scoped>\n",
              "    .dataframe tbody tr th:only-of-type {\n",
              "        vertical-align: middle;\n",
              "    }\n",
              "\n",
              "    .dataframe tbody tr th {\n",
              "        vertical-align: top;\n",
              "    }\n",
              "\n",
              "    .dataframe thead th {\n",
              "        text-align: right;\n",
              "    }\n",
              "</style>\n",
              "<table border=\"1\" class=\"dataframe\">\n",
              "  <thead>\n",
              "    <tr style=\"text-align: right;\">\n",
              "      <th></th>\n",
              "      <th>service_number</th>\n",
              "      <th>service_zip</th>\n",
              "      <th>exam_date</th>\n",
              "      <th>exam_body_part</th>\n",
              "      <th>exam_cost</th>\n",
              "      <th>doctor_npi</th>\n",
              "      <th>doctor_name</th>\n",
              "      <th>patient_name</th>\n",
              "      <th>patient_birth_date</th>\n",
              "      <th>claimant_ssn</th>\n",
              "    </tr>\n",
              "  </thead>\n",
              "  <tbody>\n",
              "    <tr>\n",
              "      <th>0</th>\n",
              "      <td>10000</td>\n",
              "      <td>73170</td>\n",
              "      <td>2018-10-10</td>\n",
              "      <td>shoulder</td>\n",
              "      <td>506.24</td>\n",
              "      <td>5556983867</td>\n",
              "      <td>Rosser</td>\n",
              "      <td>Ruley, Lashaunda</td>\n",
              "      <td>1981-11-24</td>\n",
              "      <td>000-85-2224</td>\n",
              "    </tr>\n",
              "    <tr>\n",
              "      <th>1</th>\n",
              "      <td>10001</td>\n",
              "      <td>76907</td>\n",
              "      <td>2018-11-24</td>\n",
              "      <td>brain</td>\n",
              "      <td>997.90</td>\n",
              "      <td>5556983867</td>\n",
              "      <td>Rosser</td>\n",
              "      <td>Rosser, Chante</td>\n",
              "      <td>1970-01-02</td>\n",
              "      <td>000-94-4818</td>\n",
              "    </tr>\n",
              "    <tr>\n",
              "      <th>2</th>\n",
              "      <td>10002</td>\n",
              "      <td>73170</td>\n",
              "      <td>2018-12-21</td>\n",
              "      <td>shoulder</td>\n",
              "      <td>393.84</td>\n",
              "      <td>5556983867</td>\n",
              "      <td>Rosser</td>\n",
              "      <td>Ricklefs, Angelo</td>\n",
              "      <td>1980-12-18</td>\n",
              "      <td>000-63-2106</td>\n",
              "    </tr>\n",
              "    <tr>\n",
              "      <th>3</th>\n",
              "      <td>10003</td>\n",
              "      <td>73170</td>\n",
              "      <td>2019-03-04</td>\n",
              "      <td>shoulder</td>\n",
              "      <td>732.37</td>\n",
              "      <td>5556983867</td>\n",
              "      <td>Rosser</td>\n",
              "      <td>Knop, Maia</td>\n",
              "      <td>1998-09-06</td>\n",
              "      <td>000-45-3839</td>\n",
              "    </tr>\n",
              "    <tr>\n",
              "      <th>4</th>\n",
              "      <td>10004</td>\n",
              "      <td>73170</td>\n",
              "      <td>2019-03-12</td>\n",
              "      <td>knee</td>\n",
              "      <td>730.37</td>\n",
              "      <td>5556983867</td>\n",
              "      <td>Rosser</td>\n",
              "      <td>Rosser, Katherina</td>\n",
              "      <td>1967-07-04</td>\n",
              "      <td>000-80-8368</td>\n",
              "    </tr>\n",
              "    <tr>\n",
              "      <th>...</th>\n",
              "      <td>...</td>\n",
              "      <td>...</td>\n",
              "      <td>...</td>\n",
              "      <td>...</td>\n",
              "      <td>...</td>\n",
              "      <td>...</td>\n",
              "      <td>...</td>\n",
              "      <td>...</td>\n",
              "      <td>...</td>\n",
              "      <td>...</td>\n",
              "    </tr>\n",
              "    <tr>\n",
              "      <th>1843</th>\n",
              "      <td>11843</td>\n",
              "      <td>76907</td>\n",
              "      <td>2018-08-25</td>\n",
              "      <td>lumbar</td>\n",
              "      <td>382.74</td>\n",
              "      <td>5553283038</td>\n",
              "      <td>Macek</td>\n",
              "      <td>Korn, Marchelle</td>\n",
              "      <td>1972-12-21</td>\n",
              "      <td>000-75-5433</td>\n",
              "    </tr>\n",
              "    <tr>\n",
              "      <th>1844</th>\n",
              "      <td>11844</td>\n",
              "      <td>76907</td>\n",
              "      <td>2018-07-31</td>\n",
              "      <td>lumbar</td>\n",
              "      <td>630.23</td>\n",
              "      <td>5553283038</td>\n",
              "      <td>Macek</td>\n",
              "      <td>Demaree, Charmain</td>\n",
              "      <td>1949-05-12</td>\n",
              "      <td>000-71-4963</td>\n",
              "    </tr>\n",
              "    <tr>\n",
              "      <th>1845</th>\n",
              "      <td>11845</td>\n",
              "      <td>73170</td>\n",
              "      <td>2019-02-26</td>\n",
              "      <td>cervical</td>\n",
              "      <td>191.68</td>\n",
              "      <td>5553283038</td>\n",
              "      <td>Macek</td>\n",
              "      <td>Rosser, Desire</td>\n",
              "      <td>1969-01-26</td>\n",
              "      <td>000-19-8166</td>\n",
              "    </tr>\n",
              "    <tr>\n",
              "      <th>1846</th>\n",
              "      <td>11846</td>\n",
              "      <td>51586</td>\n",
              "      <td>2018-11-08</td>\n",
              "      <td>lumbar</td>\n",
              "      <td>769.87</td>\n",
              "      <td>5553283038</td>\n",
              "      <td>Macek</td>\n",
              "      <td>Moldenhauer, Chante</td>\n",
              "      <td>1945-07-15</td>\n",
              "      <td>000-79-1838</td>\n",
              "    </tr>\n",
              "    <tr>\n",
              "      <th>1847</th>\n",
              "      <td>11847</td>\n",
              "      <td>73170</td>\n",
              "      <td>2018-08-05</td>\n",
              "      <td>lumbar</td>\n",
              "      <td>757.17</td>\n",
              "      <td>5553283038</td>\n",
              "      <td>Macek</td>\n",
              "      <td>Knop, Desire</td>\n",
              "      <td>1976-08-25</td>\n",
              "      <td>000-83-8526</td>\n",
              "    </tr>\n",
              "  </tbody>\n",
              "</table>\n",
              "<p>1848 rows × 10 columns</p>\n",
              "</div>"
            ],
            "text/plain": [
              "      service_number  service_zip  ... patient_birth_date claimant_ssn\n",
              "0              10000        73170  ...         1981-11-24  000-85-2224\n",
              "1              10001        76907  ...         1970-01-02  000-94-4818\n",
              "2              10002        73170  ...         1980-12-18  000-63-2106\n",
              "3              10003        73170  ...         1998-09-06  000-45-3839\n",
              "4              10004        73170  ...         1967-07-04  000-80-8368\n",
              "...              ...          ...  ...                ...          ...\n",
              "1843           11843        76907  ...         1972-12-21  000-75-5433\n",
              "1844           11844        76907  ...         1949-05-12  000-71-4963\n",
              "1845           11845        73170  ...         1969-01-26  000-19-8166\n",
              "1846           11846        51586  ...         1945-07-15  000-79-1838\n",
              "1847           11847        73170  ...         1976-08-25  000-83-8526\n",
              "\n",
              "[1848 rows x 10 columns]"
            ]
          },
          "metadata": {
            "tags": []
          },
          "execution_count": 4
        }
      ]
    },
    {
      "cell_type": "code",
      "metadata": {
        "id": "R8pcv_g9PUdV",
        "colab_type": "code",
        "colab": {}
      },
      "source": [
        "df.head(50)"
      ],
      "execution_count": null,
      "outputs": []
    },
    {
      "cell_type": "markdown",
      "metadata": {
        "id": "wNFPHSDIZvdP",
        "colab_type": "text"
      },
      "source": [
        "Want to obtain a list of the columns to make sure every thing is pulled, and with ['_']"
      ]
    },
    {
      "cell_type": "code",
      "metadata": {
        "id": "ZXNCZZm7SqOc",
        "colab_type": "code",
        "colab": {
          "base_uri": "https://localhost:8080/",
          "height": 187
        },
        "outputId": "e1053853-2b15-45ac-85e1-805bc97eaa6d"
      },
      "source": [
        "list(df)"
      ],
      "execution_count": 5,
      "outputs": [
        {
          "output_type": "execute_result",
          "data": {
            "text/plain": [
              "['service_number',\n",
              " 'service_zip',\n",
              " 'exam_date',\n",
              " 'exam_body_part',\n",
              " 'exam_cost',\n",
              " 'doctor_npi',\n",
              " 'doctor_name',\n",
              " 'patient_name',\n",
              " 'patient_birth_date',\n",
              " 'claimant_ssn']"
            ]
          },
          "metadata": {
            "tags": []
          },
          "execution_count": 5
        }
      ]
    },
    {
      "cell_type": "markdown",
      "metadata": {
        "id": "DdwLv_wcK65R",
        "colab_type": "text"
      },
      "source": [
        "From this we can see the only true continuous variable in this dataset is exam costs \n",
        "\n",
        "Other columns are categorial, those with int64 values are just integers used for identification. "
      ]
    },
    {
      "cell_type": "code",
      "metadata": {
        "id": "UGT_yzHnScXV",
        "colab_type": "code",
        "colab": {
          "base_uri": "https://localhost:8080/",
          "height": 204
        },
        "outputId": "4a7b7b78-35dc-40d0-f1b7-73e5a0780819"
      },
      "source": [
        "df.dtypes"
      ],
      "execution_count": 6,
      "outputs": [
        {
          "output_type": "execute_result",
          "data": {
            "text/plain": [
              "service_number          int64\n",
              "service_zip             int64\n",
              "exam_date              object\n",
              "exam_body_part         object\n",
              "exam_cost             float64\n",
              "doctor_npi              int64\n",
              "doctor_name            object\n",
              "patient_name           object\n",
              "patient_birth_date     object\n",
              "claimant_ssn           object\n",
              "dtype: object"
            ]
          },
          "metadata": {
            "tags": []
          },
          "execution_count": 6
        }
      ]
    },
    {
      "cell_type": "markdown",
      "metadata": {
        "id": "cSuoIfZCoiSo",
        "colab_type": "text"
      },
      "source": [
        "# Printing details of the dataframe"
      ]
    },
    {
      "cell_type": "code",
      "metadata": {
        "id": "o-XMUQ5UfDT7",
        "colab_type": "code",
        "colab": {
          "base_uri": "https://localhost:8080/",
          "height": 425
        },
        "outputId": "bf759e3d-69b9-474a-dfcc-63aa551a6783"
      },
      "source": [
        "print(\"Index/Labels\")\n",
        "print(df.index)     # “the index” (aka “the labels”)\n",
        "print()\n",
        "\n",
        "print(\"Column Names\")\n",
        "print(df.columns)   # column names (which is “an index”)\n",
        "print()\n",
        "\n",
        "print(\"Feature Types\")\n",
        "print(df.dtypes)    # data types of each column\n",
        "print()\n",
        "\n",
        "print(\"Shape details:\")\n",
        "print(df.shape)     # number of rows and columns"
      ],
      "execution_count": 7,
      "outputs": [
        {
          "output_type": "stream",
          "text": [
            "Index/Labels\n",
            "RangeIndex(start=0, stop=1848, step=1)\n",
            "\n",
            "Column Names\n",
            "Index(['service_number', 'service_zip', 'exam_date', 'exam_body_part',\n",
            "       'exam_cost', 'doctor_npi', 'doctor_name', 'patient_name',\n",
            "       'patient_birth_date', 'claimant_ssn'],\n",
            "      dtype='object')\n",
            "\n",
            "Feature Types\n",
            "service_number          int64\n",
            "service_zip             int64\n",
            "exam_date              object\n",
            "exam_body_part         object\n",
            "exam_cost             float64\n",
            "doctor_npi              int64\n",
            "doctor_name            object\n",
            "patient_name           object\n",
            "patient_birth_date     object\n",
            "claimant_ssn           object\n",
            "dtype: object\n",
            "\n",
            "Shape details:\n",
            "(1848, 10)\n"
          ],
          "name": "stdout"
        }
      ]
    },
    {
      "cell_type": "markdown",
      "metadata": {
        "id": "3lHJETWtc2lp",
        "colab_type": "text"
      },
      "source": [
        "# Print value counts of the catgeories that will be useful for analysis"
      ]
    },
    {
      "cell_type": "code",
      "metadata": {
        "id": "f_almK9Cff5D",
        "colab_type": "code",
        "colab": {
          "base_uri": "https://localhost:8080/",
          "height": 646
        },
        "outputId": "3f3e288d-34e7-4d1e-9c4f-e4c50a38b69f"
      },
      "source": [
        "print(\"exam_date\")\n",
        "print(df['exam_date'].value_counts())\n",
        "print()\n",
        "\n",
        "print(\"exam_body_part \")\n",
        "print(df['exam_body_part'].value_counts())\n",
        "print()\n",
        "\n",
        "print(\"exam_cost\")\n",
        "print(df['exam_cost'].value_counts())\n",
        "print()"
      ],
      "execution_count": 8,
      "outputs": [
        {
          "output_type": "stream",
          "text": [
            "exam_date\n",
            "2018-12-11    14\n",
            "2019-03-11    13\n",
            "2019-02-14    12\n",
            "2018-06-10    12\n",
            "2018-05-17    11\n",
            "              ..\n",
            "2018-07-09     1\n",
            "2018-07-16     1\n",
            "2018-12-20     1\n",
            "2018-05-07     1\n",
            "2018-08-18     1\n",
            "Name: exam_date, Length: 332, dtype: int64\n",
            "\n",
            "exam_body_part \n",
            "shoulder    437\n",
            "lumbar      427\n",
            "cervical    424\n",
            "knee        424\n",
            "brain        71\n",
            "neck         65\n",
            "Name: exam_body_part, dtype: int64\n",
            "\n",
            "exam_cost\n",
            "514.20    2\n",
            "818.48    2\n",
            "547.31    2\n",
            "460.41    2\n",
            "442.10    2\n",
            "         ..\n",
            "786.89    1\n",
            "768.40    1\n",
            "657.70    1\n",
            "220.10    1\n",
            "563.73    1\n",
            "Name: exam_cost, Length: 1824, dtype: int64\n",
            "\n"
          ],
          "name": "stdout"
        }
      ]
    },
    {
      "cell_type": "markdown",
      "metadata": {
        "id": "HuG5oMStWz2C",
        "colab_type": "text"
      },
      "source": [
        "Seeing value counts of the exam body part lets me know if \"SuperScan diagnostics\" focuses on a speciality (MSK,Spine, or Neuro) or a general practice "
      ]
    },
    {
      "cell_type": "code",
      "metadata": {
        "id": "3jx7zukIhk9C",
        "colab_type": "code",
        "colab": {
          "base_uri": "https://localhost:8080/",
          "height": 136
        },
        "outputId": "6338dc94-57af-4dc7-95c7-41c36d9c825f"
      },
      "source": [
        "print(\"doctor_name\")\n",
        "print(df['doctor_name'].value_counts())\n",
        "print()\n",
        "\n"
      ],
      "execution_count": 9,
      "outputs": [
        {
          "output_type": "stream",
          "text": [
            "doctor_name\n",
            "Burke       493\n",
            "Michalik    475\n",
            "Macek       458\n",
            "Rosser      422\n",
            "Name: doctor_name, dtype: int64\n",
            "\n"
          ],
          "name": "stdout"
        }
      ]
    },
    {
      "cell_type": "code",
      "metadata": {
        "id": "NDhbcfSKnf-S",
        "colab_type": "code",
        "colab": {
          "base_uri": "https://localhost:8080/",
          "height": 221
        },
        "outputId": "9a68029d-39dd-4341-87b1-480d8f386106"
      },
      "source": [
        "df['doctor_name']         # select one column\n",
        "type(df['doctor_name'])   # determine datatype of column (e.g., Series)\n",
        "df.doctor_name "
      ],
      "execution_count": 10,
      "outputs": [
        {
          "output_type": "execute_result",
          "data": {
            "text/plain": [
              "0       Rosser\n",
              "1       Rosser\n",
              "2       Rosser\n",
              "3       Rosser\n",
              "4       Rosser\n",
              "         ...  \n",
              "1843     Macek\n",
              "1844     Macek\n",
              "1845     Macek\n",
              "1846     Macek\n",
              "1847     Macek\n",
              "Name: doctor_name, Length: 1848, dtype: object"
            ]
          },
          "metadata": {
            "tags": []
          },
          "execution_count": 10
        }
      ]
    },
    {
      "cell_type": "code",
      "metadata": {
        "id": "J8SGRsSkk8KF",
        "colab_type": "code",
        "colab": {
          "base_uri": "https://localhost:8080/",
          "height": 102
        },
        "outputId": "6e96448d-196e-47e1-8ad1-b1fce69b9b48"
      },
      "source": [
        "df['doctor_name'].value_counts()"
      ],
      "execution_count": 11,
      "outputs": [
        {
          "output_type": "execute_result",
          "data": {
            "text/plain": [
              "Burke       493\n",
              "Michalik    475\n",
              "Macek       458\n",
              "Rosser      422\n",
              "Name: doctor_name, dtype: int64"
            ]
          },
          "metadata": {
            "tags": []
          },
          "execution_count": 11
        }
      ]
    },
    {
      "cell_type": "code",
      "metadata": {
        "id": "EiNASq5zmMQ4",
        "colab_type": "code",
        "colab": {}
      },
      "source": [
        "Macek = df[df['doctor_name']== 'doctor_name']"
      ],
      "execution_count": 12,
      "outputs": []
    },
    {
      "cell_type": "markdown",
      "metadata": {
        "id": "dXM_rAwBveoE",
        "colab_type": "text"
      },
      "source": [
        "# This allows me to review the data for one particular doctor in this case its Macek."
      ]
    },
    {
      "cell_type": "code",
      "metadata": {
        "id": "_Uv7V-94invJ",
        "colab_type": "code",
        "colab": {
          "base_uri": "https://localhost:8080/",
          "height": 541
        },
        "outputId": "2b8f95a1-6d1e-4e55-e5dd-15e3c52e9bdb"
      },
      "source": [
        "Macek = df[df['doctor_name'] == 'Macek']\n",
        "Macek"
      ],
      "execution_count": 13,
      "outputs": [
        {
          "output_type": "execute_result",
          "data": {
            "text/html": [
              "<div>\n",
              "<style scoped>\n",
              "    .dataframe tbody tr th:only-of-type {\n",
              "        vertical-align: middle;\n",
              "    }\n",
              "\n",
              "    .dataframe tbody tr th {\n",
              "        vertical-align: top;\n",
              "    }\n",
              "\n",
              "    .dataframe thead th {\n",
              "        text-align: right;\n",
              "    }\n",
              "</style>\n",
              "<table border=\"1\" class=\"dataframe\">\n",
              "  <thead>\n",
              "    <tr style=\"text-align: right;\">\n",
              "      <th></th>\n",
              "      <th>service_number</th>\n",
              "      <th>service_zip</th>\n",
              "      <th>exam_date</th>\n",
              "      <th>exam_body_part</th>\n",
              "      <th>exam_cost</th>\n",
              "      <th>doctor_npi</th>\n",
              "      <th>doctor_name</th>\n",
              "      <th>patient_name</th>\n",
              "      <th>patient_birth_date</th>\n",
              "      <th>claimant_ssn</th>\n",
              "    </tr>\n",
              "  </thead>\n",
              "  <tbody>\n",
              "    <tr>\n",
              "      <th>1390</th>\n",
              "      <td>11390</td>\n",
              "      <td>73170</td>\n",
              "      <td>2018-11-12</td>\n",
              "      <td>cervical</td>\n",
              "      <td>303.34</td>\n",
              "      <td>5553283038</td>\n",
              "      <td>Macek</td>\n",
              "      <td>Macek, Fausto</td>\n",
              "      <td>1970-03-18</td>\n",
              "      <td>000-75-7343</td>\n",
              "    </tr>\n",
              "    <tr>\n",
              "      <th>1391</th>\n",
              "      <td>11391</td>\n",
              "      <td>73170</td>\n",
              "      <td>2018-04-21</td>\n",
              "      <td>lumbar</td>\n",
              "      <td>540.20</td>\n",
              "      <td>5553283038</td>\n",
              "      <td>Macek</td>\n",
              "      <td>Lumpkins, Charmain</td>\n",
              "      <td>1973-10-07</td>\n",
              "      <td>000-25-1616</td>\n",
              "    </tr>\n",
              "    <tr>\n",
              "      <th>1392</th>\n",
              "      <td>11392</td>\n",
              "      <td>51586</td>\n",
              "      <td>2018-12-02</td>\n",
              "      <td>lumbar</td>\n",
              "      <td>475.14</td>\n",
              "      <td>5553283038</td>\n",
              "      <td>Macek</td>\n",
              "      <td>Jablonski, Ronna</td>\n",
              "      <td>1961-02-03</td>\n",
              "      <td>000-48-8998</td>\n",
              "    </tr>\n",
              "    <tr>\n",
              "      <th>1393</th>\n",
              "      <td>11393</td>\n",
              "      <td>73608</td>\n",
              "      <td>2018-05-11</td>\n",
              "      <td>cervical</td>\n",
              "      <td>908.76</td>\n",
              "      <td>5553283038</td>\n",
              "      <td>Macek</td>\n",
              "      <td>Loden, Marianna</td>\n",
              "      <td>1994-01-04</td>\n",
              "      <td>000-72-2783</td>\n",
              "    </tr>\n",
              "    <tr>\n",
              "      <th>1394</th>\n",
              "      <td>11394</td>\n",
              "      <td>51586</td>\n",
              "      <td>2018-08-12</td>\n",
              "      <td>neck</td>\n",
              "      <td>562.29</td>\n",
              "      <td>5553283038</td>\n",
              "      <td>Macek</td>\n",
              "      <td>Marcus, Lashaunda</td>\n",
              "      <td>1974-05-17</td>\n",
              "      <td>000-99-3467</td>\n",
              "    </tr>\n",
              "    <tr>\n",
              "      <th>...</th>\n",
              "      <td>...</td>\n",
              "      <td>...</td>\n",
              "      <td>...</td>\n",
              "      <td>...</td>\n",
              "      <td>...</td>\n",
              "      <td>...</td>\n",
              "      <td>...</td>\n",
              "      <td>...</td>\n",
              "      <td>...</td>\n",
              "      <td>...</td>\n",
              "    </tr>\n",
              "    <tr>\n",
              "      <th>1843</th>\n",
              "      <td>11843</td>\n",
              "      <td>76907</td>\n",
              "      <td>2018-08-25</td>\n",
              "      <td>lumbar</td>\n",
              "      <td>382.74</td>\n",
              "      <td>5553283038</td>\n",
              "      <td>Macek</td>\n",
              "      <td>Korn, Marchelle</td>\n",
              "      <td>1972-12-21</td>\n",
              "      <td>000-75-5433</td>\n",
              "    </tr>\n",
              "    <tr>\n",
              "      <th>1844</th>\n",
              "      <td>11844</td>\n",
              "      <td>76907</td>\n",
              "      <td>2018-07-31</td>\n",
              "      <td>lumbar</td>\n",
              "      <td>630.23</td>\n",
              "      <td>5553283038</td>\n",
              "      <td>Macek</td>\n",
              "      <td>Demaree, Charmain</td>\n",
              "      <td>1949-05-12</td>\n",
              "      <td>000-71-4963</td>\n",
              "    </tr>\n",
              "    <tr>\n",
              "      <th>1845</th>\n",
              "      <td>11845</td>\n",
              "      <td>73170</td>\n",
              "      <td>2019-02-26</td>\n",
              "      <td>cervical</td>\n",
              "      <td>191.68</td>\n",
              "      <td>5553283038</td>\n",
              "      <td>Macek</td>\n",
              "      <td>Rosser, Desire</td>\n",
              "      <td>1969-01-26</td>\n",
              "      <td>000-19-8166</td>\n",
              "    </tr>\n",
              "    <tr>\n",
              "      <th>1846</th>\n",
              "      <td>11846</td>\n",
              "      <td>51586</td>\n",
              "      <td>2018-11-08</td>\n",
              "      <td>lumbar</td>\n",
              "      <td>769.87</td>\n",
              "      <td>5553283038</td>\n",
              "      <td>Macek</td>\n",
              "      <td>Moldenhauer, Chante</td>\n",
              "      <td>1945-07-15</td>\n",
              "      <td>000-79-1838</td>\n",
              "    </tr>\n",
              "    <tr>\n",
              "      <th>1847</th>\n",
              "      <td>11847</td>\n",
              "      <td>73170</td>\n",
              "      <td>2018-08-05</td>\n",
              "      <td>lumbar</td>\n",
              "      <td>757.17</td>\n",
              "      <td>5553283038</td>\n",
              "      <td>Macek</td>\n",
              "      <td>Knop, Desire</td>\n",
              "      <td>1976-08-25</td>\n",
              "      <td>000-83-8526</td>\n",
              "    </tr>\n",
              "  </tbody>\n",
              "</table>\n",
              "<p>458 rows × 10 columns</p>\n",
              "</div>"
            ],
            "text/plain": [
              "      service_number  service_zip  ... patient_birth_date claimant_ssn\n",
              "1390           11390        73170  ...         1970-03-18  000-75-7343\n",
              "1391           11391        73170  ...         1973-10-07  000-25-1616\n",
              "1392           11392        51586  ...         1961-02-03  000-48-8998\n",
              "1393           11393        73608  ...         1994-01-04  000-72-2783\n",
              "1394           11394        51586  ...         1974-05-17  000-99-3467\n",
              "...              ...          ...  ...                ...          ...\n",
              "1843           11843        76907  ...         1972-12-21  000-75-5433\n",
              "1844           11844        76907  ...         1949-05-12  000-71-4963\n",
              "1845           11845        73170  ...         1969-01-26  000-19-8166\n",
              "1846           11846        51586  ...         1945-07-15  000-79-1838\n",
              "1847           11847        73170  ...         1976-08-25  000-83-8526\n",
              "\n",
              "[458 rows x 10 columns]"
            ]
          },
          "metadata": {
            "tags": []
          },
          "execution_count": 13
        }
      ]
    },
    {
      "cell_type": "markdown",
      "metadata": {
        "id": "UapOjjLdQdbZ",
        "colab_type": "text"
      },
      "source": [
        "# Group by command on the doctors to see descriptive statistics. "
      ]
    },
    {
      "cell_type": "code",
      "metadata": {
        "id": "KOuba93Up7Na",
        "colab_type": "code",
        "colab": {
          "base_uri": "https://localhost:8080/",
          "height": 255
        },
        "outputId": "d3e74027-6577-49d5-9d0e-ba1c3328fabe"
      },
      "source": [
        "df_group_doctors = df.groupby(['doctor_name'])\n",
        "df_group_doctors.describe()"
      ],
      "execution_count": 14,
      "outputs": [
        {
          "output_type": "execute_result",
          "data": {
            "text/html": [
              "<div>\n",
              "<style scoped>\n",
              "    .dataframe tbody tr th:only-of-type {\n",
              "        vertical-align: middle;\n",
              "    }\n",
              "\n",
              "    .dataframe tbody tr th {\n",
              "        vertical-align: top;\n",
              "    }\n",
              "\n",
              "    .dataframe thead tr th {\n",
              "        text-align: left;\n",
              "    }\n",
              "\n",
              "    .dataframe thead tr:last-of-type th {\n",
              "        text-align: right;\n",
              "    }\n",
              "</style>\n",
              "<table border=\"1\" class=\"dataframe\">\n",
              "  <thead>\n",
              "    <tr>\n",
              "      <th></th>\n",
              "      <th colspan=\"8\" halign=\"left\">service_number</th>\n",
              "      <th colspan=\"8\" halign=\"left\">service_zip</th>\n",
              "      <th colspan=\"8\" halign=\"left\">exam_cost</th>\n",
              "      <th colspan=\"8\" halign=\"left\">doctor_npi</th>\n",
              "    </tr>\n",
              "    <tr>\n",
              "      <th></th>\n",
              "      <th>count</th>\n",
              "      <th>mean</th>\n",
              "      <th>std</th>\n",
              "      <th>min</th>\n",
              "      <th>25%</th>\n",
              "      <th>50%</th>\n",
              "      <th>75%</th>\n",
              "      <th>max</th>\n",
              "      <th>count</th>\n",
              "      <th>mean</th>\n",
              "      <th>std</th>\n",
              "      <th>min</th>\n",
              "      <th>25%</th>\n",
              "      <th>50%</th>\n",
              "      <th>75%</th>\n",
              "      <th>max</th>\n",
              "      <th>count</th>\n",
              "      <th>mean</th>\n",
              "      <th>std</th>\n",
              "      <th>min</th>\n",
              "      <th>25%</th>\n",
              "      <th>50%</th>\n",
              "      <th>75%</th>\n",
              "      <th>max</th>\n",
              "      <th>count</th>\n",
              "      <th>mean</th>\n",
              "      <th>std</th>\n",
              "      <th>min</th>\n",
              "      <th>25%</th>\n",
              "      <th>50%</th>\n",
              "      <th>75%</th>\n",
              "      <th>max</th>\n",
              "    </tr>\n",
              "    <tr>\n",
              "      <th>doctor_name</th>\n",
              "      <th></th>\n",
              "      <th></th>\n",
              "      <th></th>\n",
              "      <th></th>\n",
              "      <th></th>\n",
              "      <th></th>\n",
              "      <th></th>\n",
              "      <th></th>\n",
              "      <th></th>\n",
              "      <th></th>\n",
              "      <th></th>\n",
              "      <th></th>\n",
              "      <th></th>\n",
              "      <th></th>\n",
              "      <th></th>\n",
              "      <th></th>\n",
              "      <th></th>\n",
              "      <th></th>\n",
              "      <th></th>\n",
              "      <th></th>\n",
              "      <th></th>\n",
              "      <th></th>\n",
              "      <th></th>\n",
              "      <th></th>\n",
              "      <th></th>\n",
              "      <th></th>\n",
              "      <th></th>\n",
              "      <th></th>\n",
              "      <th></th>\n",
              "      <th></th>\n",
              "      <th></th>\n",
              "      <th></th>\n",
              "    </tr>\n",
              "  </thead>\n",
              "  <tbody>\n",
              "    <tr>\n",
              "      <th>Burke</th>\n",
              "      <td>493.0</td>\n",
              "      <td>10668.0</td>\n",
              "      <td>142.461106</td>\n",
              "      <td>10422.0</td>\n",
              "      <td>10545.00</td>\n",
              "      <td>10668.0</td>\n",
              "      <td>10791.00</td>\n",
              "      <td>10914.0</td>\n",
              "      <td>493.0</td>\n",
              "      <td>65484.963489</td>\n",
              "      <td>12087.881370</td>\n",
              "      <td>47783.0</td>\n",
              "      <td>51586.0</td>\n",
              "      <td>73170.0</td>\n",
              "      <td>73608.0</td>\n",
              "      <td>76907.0</td>\n",
              "      <td>493.0</td>\n",
              "      <td>548.973854</td>\n",
              "      <td>253.692923</td>\n",
              "      <td>102.95</td>\n",
              "      <td>323.870</td>\n",
              "      <td>561.69</td>\n",
              "      <td>765.980</td>\n",
              "      <td>999.57</td>\n",
              "      <td>493.0</td>\n",
              "      <td>5.553184e+09</td>\n",
              "      <td>0.0</td>\n",
              "      <td>5.553184e+09</td>\n",
              "      <td>5.553184e+09</td>\n",
              "      <td>5.553184e+09</td>\n",
              "      <td>5.553184e+09</td>\n",
              "      <td>5.553184e+09</td>\n",
              "    </tr>\n",
              "    <tr>\n",
              "      <th>Macek</th>\n",
              "      <td>458.0</td>\n",
              "      <td>11618.5</td>\n",
              "      <td>132.357471</td>\n",
              "      <td>11390.0</td>\n",
              "      <td>11504.25</td>\n",
              "      <td>11618.5</td>\n",
              "      <td>11732.75</td>\n",
              "      <td>11847.0</td>\n",
              "      <td>458.0</td>\n",
              "      <td>64436.074236</td>\n",
              "      <td>12354.174908</td>\n",
              "      <td>47783.0</td>\n",
              "      <td>51586.0</td>\n",
              "      <td>73170.0</td>\n",
              "      <td>73608.0</td>\n",
              "      <td>76907.0</td>\n",
              "      <td>458.0</td>\n",
              "      <td>547.923908</td>\n",
              "      <td>263.553549</td>\n",
              "      <td>101.48</td>\n",
              "      <td>308.700</td>\n",
              "      <td>542.22</td>\n",
              "      <td>775.235</td>\n",
              "      <td>999.74</td>\n",
              "      <td>458.0</td>\n",
              "      <td>5.553283e+09</td>\n",
              "      <td>0.0</td>\n",
              "      <td>5.553283e+09</td>\n",
              "      <td>5.553283e+09</td>\n",
              "      <td>5.553283e+09</td>\n",
              "      <td>5.553283e+09</td>\n",
              "      <td>5.553283e+09</td>\n",
              "    </tr>\n",
              "    <tr>\n",
              "      <th>Michalik</th>\n",
              "      <td>475.0</td>\n",
              "      <td>11152.0</td>\n",
              "      <td>137.264951</td>\n",
              "      <td>10915.0</td>\n",
              "      <td>11033.50</td>\n",
              "      <td>11152.0</td>\n",
              "      <td>11270.50</td>\n",
              "      <td>11389.0</td>\n",
              "      <td>475.0</td>\n",
              "      <td>65273.907368</td>\n",
              "      <td>12344.820356</td>\n",
              "      <td>47783.0</td>\n",
              "      <td>51586.0</td>\n",
              "      <td>73170.0</td>\n",
              "      <td>73608.0</td>\n",
              "      <td>76907.0</td>\n",
              "      <td>475.0</td>\n",
              "      <td>556.749789</td>\n",
              "      <td>268.197206</td>\n",
              "      <td>101.64</td>\n",
              "      <td>332.070</td>\n",
              "      <td>562.89</td>\n",
              "      <td>790.100</td>\n",
              "      <td>999.90</td>\n",
              "      <td>475.0</td>\n",
              "      <td>5.558050e+09</td>\n",
              "      <td>0.0</td>\n",
              "      <td>5.558050e+09</td>\n",
              "      <td>5.558050e+09</td>\n",
              "      <td>5.558050e+09</td>\n",
              "      <td>5.558050e+09</td>\n",
              "      <td>5.558050e+09</td>\n",
              "    </tr>\n",
              "    <tr>\n",
              "      <th>Rosser</th>\n",
              "      <td>422.0</td>\n",
              "      <td>10210.5</td>\n",
              "      <td>121.965159</td>\n",
              "      <td>10000.0</td>\n",
              "      <td>10105.25</td>\n",
              "      <td>10210.5</td>\n",
              "      <td>10315.75</td>\n",
              "      <td>10421.0</td>\n",
              "      <td>422.0</td>\n",
              "      <td>64964.260664</td>\n",
              "      <td>12286.229913</td>\n",
              "      <td>47783.0</td>\n",
              "      <td>51586.0</td>\n",
              "      <td>73170.0</td>\n",
              "      <td>73608.0</td>\n",
              "      <td>76907.0</td>\n",
              "      <td>422.0</td>\n",
              "      <td>564.588104</td>\n",
              "      <td>246.340306</td>\n",
              "      <td>102.20</td>\n",
              "      <td>373.415</td>\n",
              "      <td>572.08</td>\n",
              "      <td>762.495</td>\n",
              "      <td>999.48</td>\n",
              "      <td>422.0</td>\n",
              "      <td>5.556984e+09</td>\n",
              "      <td>0.0</td>\n",
              "      <td>5.556984e+09</td>\n",
              "      <td>5.556984e+09</td>\n",
              "      <td>5.556984e+09</td>\n",
              "      <td>5.556984e+09</td>\n",
              "      <td>5.556984e+09</td>\n",
              "    </tr>\n",
              "  </tbody>\n",
              "</table>\n",
              "</div>"
            ],
            "text/plain": [
              "            service_number           ...    doctor_npi              \n",
              "                     count     mean  ...           75%           max\n",
              "doctor_name                          ...                            \n",
              "Burke                493.0  10668.0  ...  5.553184e+09  5.553184e+09\n",
              "Macek                458.0  11618.5  ...  5.553283e+09  5.553283e+09\n",
              "Michalik             475.0  11152.0  ...  5.558050e+09  5.558050e+09\n",
              "Rosser               422.0  10210.5  ...  5.556984e+09  5.556984e+09\n",
              "\n",
              "[4 rows x 32 columns]"
            ]
          },
          "metadata": {
            "tags": []
          },
          "execution_count": 14
        }
      ]
    },
    {
      "cell_type": "markdown",
      "metadata": {
        "id": "rItDyQMVd7Wc",
        "colab_type": "text"
      },
      "source": [
        "Appears Dr. Rooser had the highest mean cost for exams at $564, but he also preformed the least amount of exams. "
      ]
    },
    {
      "cell_type": "code",
      "metadata": {
        "id": "IsU8Ulp0yV3_",
        "colab_type": "code",
        "colab": {
          "base_uri": "https://localhost:8080/",
          "height": 317
        },
        "outputId": "07b5658c-ddd5-4198-a68f-06852897dff5"
      },
      "source": [
        "df_group_bodypart = df.groupby(['exam_body_part'])\n",
        "df_group_bodypart.describe()"
      ],
      "execution_count": 15,
      "outputs": [
        {
          "output_type": "execute_result",
          "data": {
            "text/html": [
              "<div>\n",
              "<style scoped>\n",
              "    .dataframe tbody tr th:only-of-type {\n",
              "        vertical-align: middle;\n",
              "    }\n",
              "\n",
              "    .dataframe tbody tr th {\n",
              "        vertical-align: top;\n",
              "    }\n",
              "\n",
              "    .dataframe thead tr th {\n",
              "        text-align: left;\n",
              "    }\n",
              "\n",
              "    .dataframe thead tr:last-of-type th {\n",
              "        text-align: right;\n",
              "    }\n",
              "</style>\n",
              "<table border=\"1\" class=\"dataframe\">\n",
              "  <thead>\n",
              "    <tr>\n",
              "      <th></th>\n",
              "      <th colspan=\"8\" halign=\"left\">service_number</th>\n",
              "      <th colspan=\"8\" halign=\"left\">service_zip</th>\n",
              "      <th colspan=\"8\" halign=\"left\">exam_cost</th>\n",
              "      <th colspan=\"8\" halign=\"left\">doctor_npi</th>\n",
              "    </tr>\n",
              "    <tr>\n",
              "      <th></th>\n",
              "      <th>count</th>\n",
              "      <th>mean</th>\n",
              "      <th>std</th>\n",
              "      <th>min</th>\n",
              "      <th>25%</th>\n",
              "      <th>50%</th>\n",
              "      <th>75%</th>\n",
              "      <th>max</th>\n",
              "      <th>count</th>\n",
              "      <th>mean</th>\n",
              "      <th>std</th>\n",
              "      <th>min</th>\n",
              "      <th>25%</th>\n",
              "      <th>50%</th>\n",
              "      <th>75%</th>\n",
              "      <th>max</th>\n",
              "      <th>count</th>\n",
              "      <th>mean</th>\n",
              "      <th>std</th>\n",
              "      <th>min</th>\n",
              "      <th>25%</th>\n",
              "      <th>50%</th>\n",
              "      <th>75%</th>\n",
              "      <th>max</th>\n",
              "      <th>count</th>\n",
              "      <th>mean</th>\n",
              "      <th>std</th>\n",
              "      <th>min</th>\n",
              "      <th>25%</th>\n",
              "      <th>50%</th>\n",
              "      <th>75%</th>\n",
              "      <th>max</th>\n",
              "    </tr>\n",
              "    <tr>\n",
              "      <th>exam_body_part</th>\n",
              "      <th></th>\n",
              "      <th></th>\n",
              "      <th></th>\n",
              "      <th></th>\n",
              "      <th></th>\n",
              "      <th></th>\n",
              "      <th></th>\n",
              "      <th></th>\n",
              "      <th></th>\n",
              "      <th></th>\n",
              "      <th></th>\n",
              "      <th></th>\n",
              "      <th></th>\n",
              "      <th></th>\n",
              "      <th></th>\n",
              "      <th></th>\n",
              "      <th></th>\n",
              "      <th></th>\n",
              "      <th></th>\n",
              "      <th></th>\n",
              "      <th></th>\n",
              "      <th></th>\n",
              "      <th></th>\n",
              "      <th></th>\n",
              "      <th></th>\n",
              "      <th></th>\n",
              "      <th></th>\n",
              "      <th></th>\n",
              "      <th></th>\n",
              "      <th></th>\n",
              "      <th></th>\n",
              "      <th></th>\n",
              "    </tr>\n",
              "  </thead>\n",
              "  <tbody>\n",
              "    <tr>\n",
              "      <th>brain</th>\n",
              "      <td>71.0</td>\n",
              "      <td>10948.056338</td>\n",
              "      <td>497.883431</td>\n",
              "      <td>10001.0</td>\n",
              "      <td>10581.50</td>\n",
              "      <td>10919.0</td>\n",
              "      <td>11393.50</td>\n",
              "      <td>11792.0</td>\n",
              "      <td>71.0</td>\n",
              "      <td>64734.338028</td>\n",
              "      <td>12485.576150</td>\n",
              "      <td>47783.0</td>\n",
              "      <td>49684.5</td>\n",
              "      <td>73170.0</td>\n",
              "      <td>73608.0</td>\n",
              "      <td>76907.0</td>\n",
              "      <td>71.0</td>\n",
              "      <td>580.571127</td>\n",
              "      <td>268.219552</td>\n",
              "      <td>105.78</td>\n",
              "      <td>317.0950</td>\n",
              "      <td>563.510</td>\n",
              "      <td>818.540</td>\n",
              "      <td>999.57</td>\n",
              "      <td>71.0</td>\n",
              "      <td>5.554978e+09</td>\n",
              "      <td>2.211257e+06</td>\n",
              "      <td>5.553184e+09</td>\n",
              "      <td>5.553184e+09</td>\n",
              "      <td>5.553283e+09</td>\n",
              "      <td>5.557517e+09</td>\n",
              "      <td>5.558050e+09</td>\n",
              "    </tr>\n",
              "    <tr>\n",
              "      <th>cervical</th>\n",
              "      <td>424.0</td>\n",
              "      <td>11292.992925</td>\n",
              "      <td>377.887086</td>\n",
              "      <td>10020.0</td>\n",
              "      <td>11066.75</td>\n",
              "      <td>11304.5</td>\n",
              "      <td>11604.75</td>\n",
              "      <td>11845.0</td>\n",
              "      <td>424.0</td>\n",
              "      <td>64885.405660</td>\n",
              "      <td>12339.153055</td>\n",
              "      <td>47783.0</td>\n",
              "      <td>51586.0</td>\n",
              "      <td>73170.0</td>\n",
              "      <td>73608.0</td>\n",
              "      <td>76907.0</td>\n",
              "      <td>424.0</td>\n",
              "      <td>560.562925</td>\n",
              "      <td>269.802984</td>\n",
              "      <td>101.81</td>\n",
              "      <td>312.8050</td>\n",
              "      <td>577.585</td>\n",
              "      <td>805.940</td>\n",
              "      <td>999.90</td>\n",
              "      <td>424.0</td>\n",
              "      <td>5.555709e+09</td>\n",
              "      <td>2.357533e+06</td>\n",
              "      <td>5.553184e+09</td>\n",
              "      <td>5.553283e+09</td>\n",
              "      <td>5.556984e+09</td>\n",
              "      <td>5.558050e+09</td>\n",
              "      <td>5.558050e+09</td>\n",
              "    </tr>\n",
              "    <tr>\n",
              "      <th>knee</th>\n",
              "      <td>424.0</td>\n",
              "      <td>10528.655660</td>\n",
              "      <td>367.069494</td>\n",
              "      <td>10004.0</td>\n",
              "      <td>10241.75</td>\n",
              "      <td>10480.5</td>\n",
              "      <td>10743.75</td>\n",
              "      <td>11836.0</td>\n",
              "      <td>424.0</td>\n",
              "      <td>65455.058962</td>\n",
              "      <td>12117.319881</td>\n",
              "      <td>47783.0</td>\n",
              "      <td>51586.0</td>\n",
              "      <td>73170.0</td>\n",
              "      <td>73608.0</td>\n",
              "      <td>76907.0</td>\n",
              "      <td>424.0</td>\n",
              "      <td>548.620000</td>\n",
              "      <td>251.458044</td>\n",
              "      <td>102.20</td>\n",
              "      <td>343.0525</td>\n",
              "      <td>547.725</td>\n",
              "      <td>761.885</td>\n",
              "      <td>999.74</td>\n",
              "      <td>424.0</td>\n",
              "      <td>5.555114e+09</td>\n",
              "      <td>1.964959e+06</td>\n",
              "      <td>5.553184e+09</td>\n",
              "      <td>5.553184e+09</td>\n",
              "      <td>5.553283e+09</td>\n",
              "      <td>5.556984e+09</td>\n",
              "      <td>5.558050e+09</td>\n",
              "    </tr>\n",
              "    <tr>\n",
              "      <th>lumbar</th>\n",
              "      <td>427.0</td>\n",
              "      <td>11325.442623</td>\n",
              "      <td>350.551656</td>\n",
              "      <td>10009.0</td>\n",
              "      <td>11087.00</td>\n",
              "      <td>11367.0</td>\n",
              "      <td>11589.50</td>\n",
              "      <td>11847.0</td>\n",
              "      <td>427.0</td>\n",
              "      <td>65129.847775</td>\n",
              "      <td>12345.660401</td>\n",
              "      <td>47783.0</td>\n",
              "      <td>51586.0</td>\n",
              "      <td>73170.0</td>\n",
              "      <td>73608.0</td>\n",
              "      <td>76907.0</td>\n",
              "      <td>427.0</td>\n",
              "      <td>540.572248</td>\n",
              "      <td>258.325379</td>\n",
              "      <td>101.48</td>\n",
              "      <td>336.0300</td>\n",
              "      <td>529.360</td>\n",
              "      <td>760.760</td>\n",
              "      <td>999.21</td>\n",
              "      <td>427.0</td>\n",
              "      <td>5.555461e+09</td>\n",
              "      <td>2.361131e+06</td>\n",
              "      <td>5.553184e+09</td>\n",
              "      <td>5.553283e+09</td>\n",
              "      <td>5.553283e+09</td>\n",
              "      <td>5.558050e+09</td>\n",
              "      <td>5.558050e+09</td>\n",
              "    </tr>\n",
              "    <tr>\n",
              "      <th>neck</th>\n",
              "      <td>65.0</td>\n",
              "      <td>10986.846154</td>\n",
              "      <td>518.374690</td>\n",
              "      <td>10022.0</td>\n",
              "      <td>10557.00</td>\n",
              "      <td>11106.0</td>\n",
              "      <td>11376.00</td>\n",
              "      <td>11814.0</td>\n",
              "      <td>65.0</td>\n",
              "      <td>67742.307692</td>\n",
              "      <td>11420.394569</td>\n",
              "      <td>47783.0</td>\n",
              "      <td>51586.0</td>\n",
              "      <td>73170.0</td>\n",
              "      <td>73608.0</td>\n",
              "      <td>76907.0</td>\n",
              "      <td>65.0</td>\n",
              "      <td>612.423231</td>\n",
              "      <td>242.754469</td>\n",
              "      <td>110.39</td>\n",
              "      <td>455.3000</td>\n",
              "      <td>573.990</td>\n",
              "      <td>808.920</td>\n",
              "      <td>993.92</td>\n",
              "      <td>65.0</td>\n",
              "      <td>5.555780e+09</td>\n",
              "      <td>2.261585e+06</td>\n",
              "      <td>5.553184e+09</td>\n",
              "      <td>5.553283e+09</td>\n",
              "      <td>5.556984e+09</td>\n",
              "      <td>5.558050e+09</td>\n",
              "      <td>5.558050e+09</td>\n",
              "    </tr>\n",
              "    <tr>\n",
              "      <th>shoulder</th>\n",
              "      <td>437.0</td>\n",
              "      <td>10541.940503</td>\n",
              "      <td>385.303099</td>\n",
              "      <td>10000.0</td>\n",
              "      <td>10253.00</td>\n",
              "      <td>10499.0</td>\n",
              "      <td>10748.00</td>\n",
              "      <td>11816.0</td>\n",
              "      <td>437.0</td>\n",
              "      <td>64397.352403</td>\n",
              "      <td>12328.517247</td>\n",
              "      <td>47783.0</td>\n",
              "      <td>51586.0</td>\n",
              "      <td>73170.0</td>\n",
              "      <td>73608.0</td>\n",
              "      <td>76907.0</td>\n",
              "      <td>437.0</td>\n",
              "      <td>554.141007</td>\n",
              "      <td>253.317754</td>\n",
              "      <td>107.27</td>\n",
              "      <td>327.4100</td>\n",
              "      <td>571.670</td>\n",
              "      <td>755.880</td>\n",
              "      <td>997.39</td>\n",
              "      <td>437.0</td>\n",
              "      <td>5.555022e+09</td>\n",
              "      <td>1.961650e+06</td>\n",
              "      <td>5.553184e+09</td>\n",
              "      <td>5.553184e+09</td>\n",
              "      <td>5.553283e+09</td>\n",
              "      <td>5.556984e+09</td>\n",
              "      <td>5.558050e+09</td>\n",
              "    </tr>\n",
              "  </tbody>\n",
              "</table>\n",
              "</div>"
            ],
            "text/plain": [
              "               service_number                ...    doctor_npi              \n",
              "                        count          mean  ...           75%           max\n",
              "exam_body_part                               ...                            \n",
              "brain                    71.0  10948.056338  ...  5.557517e+09  5.558050e+09\n",
              "cervical                424.0  11292.992925  ...  5.558050e+09  5.558050e+09\n",
              "knee                    424.0  10528.655660  ...  5.556984e+09  5.558050e+09\n",
              "lumbar                  427.0  11325.442623  ...  5.558050e+09  5.558050e+09\n",
              "neck                     65.0  10986.846154  ...  5.558050e+09  5.558050e+09\n",
              "shoulder                437.0  10541.940503  ...  5.556984e+09  5.558050e+09\n",
              "\n",
              "[6 rows x 32 columns]"
            ]
          },
          "metadata": {
            "tags": []
          },
          "execution_count": 15
        }
      ]
    },
    {
      "cell_type": "code",
      "metadata": {
        "id": "fOMgNeTzy8Bu",
        "colab_type": "code",
        "colab": {}
      },
      "source": [
        "df_group_cost = df.groupby(['exam_cost'])\n",
        "df_group_cost.describe()"
      ],
      "execution_count": null,
      "outputs": []
    },
    {
      "cell_type": "code",
      "metadata": {
        "id": "nXpJFyXBzZrg",
        "colab_type": "code",
        "colab": {}
      },
      "source": [
        "df_group_zip = df.groupby(['service_zip'])\n",
        "df_group_zip.describe()"
      ],
      "execution_count": null,
      "outputs": []
    },
    {
      "cell_type": "code",
      "metadata": {
        "id": "uIGztXSdpaW4",
        "colab_type": "code",
        "colab": {}
      },
      "source": [
        "df.describe()          # describe all numeric columns\n",
        "df.describe(include=['object']) # describe all object columns\n",
        "df.describe(include='all')      # describe all columns"
      ],
      "execution_count": null,
      "outputs": []
    },
    {
      "cell_type": "markdown",
      "metadata": {
        "id": "3iD7ASoBh5aQ",
        "colab_type": "text"
      },
      "source": [
        "# Created new dataframe to capture only the important variables "
      ]
    },
    {
      "cell_type": "code",
      "metadata": {
        "id": "gaWPHIvj9dU3",
        "colab_type": "code",
        "colab": {
          "base_uri": "https://localhost:8080/",
          "height": 918
        },
        "outputId": "b23ada47-1a97-4683-a621-3ece11699f4c"
      },
      "source": [
        "df2 = pd.DataFrame(df[['exam_cost', 'exam_body_part','doctor_name',]])\n",
        "df2 = df2.groupby(['exam_body_part','doctor_name',])\n",
        "df2 = df2.mean()\n",
        "df2 = df2.sort_values(by=['exam_cost'], ascending= False)\n",
        "print(df2.head(30))\n",
        "print()\n",
        "print(df2.tail(30))\n"
      ],
      "execution_count": 4,
      "outputs": [
        {
          "output_type": "stream",
          "text": [
            "                             exam_cost\n",
            "exam_body_part doctor_name            \n",
            "neck           Rosser       718.278333\n",
            "brain          Rosser       663.077000\n",
            "neck           Burke        639.656154\n",
            "shoulder       Michalik     638.771429\n",
            "knee           Macek        637.738750\n",
            "brain          Burke        611.110000\n",
            "               Michalik     597.682778\n",
            "neck           Macek        593.505333\n",
            "cervical       Macek        565.613060\n",
            "               Michalik     561.202709\n",
            "shoulder       Rosser       559.804511\n",
            "cervical       Rosser       559.640588\n",
            "neck           Michalik     558.802400\n",
            "knee           Rosser       555.360266\n",
            "lumbar         Rosser       552.765455\n",
            "               Michalik     548.000321\n",
            "shoulder       Burke        545.793991\n",
            "lumbar         Burke        544.241818\n",
            "knee           Burke        543.165528\n",
            "lumbar         Macek        532.823913\n",
            "cervical       Burke        511.116667\n",
            "shoulder       Macek        499.330000\n",
            "brain          Macek        475.207778\n",
            "knee           Michalik     472.066190\n",
            "\n",
            "                             exam_cost\n",
            "exam_body_part doctor_name            \n",
            "neck           Rosser       718.278333\n",
            "brain          Rosser       663.077000\n",
            "neck           Burke        639.656154\n",
            "shoulder       Michalik     638.771429\n",
            "knee           Macek        637.738750\n",
            "brain          Burke        611.110000\n",
            "               Michalik     597.682778\n",
            "neck           Macek        593.505333\n",
            "cervical       Macek        565.613060\n",
            "               Michalik     561.202709\n",
            "shoulder       Rosser       559.804511\n",
            "cervical       Rosser       559.640588\n",
            "neck           Michalik     558.802400\n",
            "knee           Rosser       555.360266\n",
            "lumbar         Rosser       552.765455\n",
            "               Michalik     548.000321\n",
            "shoulder       Burke        545.793991\n",
            "lumbar         Burke        544.241818\n",
            "knee           Burke        543.165528\n",
            "lumbar         Macek        532.823913\n",
            "cervical       Burke        511.116667\n",
            "shoulder       Macek        499.330000\n",
            "brain          Macek        475.207778\n",
            "knee           Michalik     472.066190\n"
          ],
          "name": "stdout"
        }
      ]
    },
    {
      "cell_type": "code",
      "metadata": {
        "id": "Lc8Ve5zpQRIc",
        "colab_type": "code",
        "colab": {
          "base_uri": "https://localhost:8080/",
          "height": 459
        },
        "outputId": "98254e73-6993-4799-b914-a0587a29b59b"
      },
      "source": [
        "print(df2.describe)"
      ],
      "execution_count": 20,
      "outputs": [
        {
          "output_type": "stream",
          "text": [
            "<bound method NDFrame.describe of                              exam_cost\n",
            "exam_body_part doctor_name            \n",
            "neck           Rosser       718.278333\n",
            "brain          Rosser       663.077000\n",
            "neck           Burke        639.656154\n",
            "shoulder       Michalik     638.771429\n",
            "knee           Macek        637.738750\n",
            "brain          Burke        611.110000\n",
            "               Michalik     597.682778\n",
            "neck           Macek        593.505333\n",
            "cervical       Macek        565.613060\n",
            "               Michalik     561.202709\n",
            "shoulder       Rosser       559.804511\n",
            "cervical       Rosser       559.640588\n",
            "neck           Michalik     558.802400\n",
            "knee           Rosser       555.360266\n",
            "lumbar         Rosser       552.765455\n",
            "               Michalik     548.000321\n",
            "shoulder       Burke        545.793991\n",
            "lumbar         Burke        544.241818\n",
            "knee           Burke        543.165528\n",
            "lumbar         Macek        532.823913\n",
            "cervical       Burke        511.116667\n",
            "shoulder       Macek        499.330000\n",
            "brain          Macek        475.207778\n",
            "knee           Michalik     472.066190>\n"
          ],
          "name": "stdout"
        }
      ]
    },
    {
      "cell_type": "markdown",
      "metadata": {
        "id": "F_TRohP8kXrq",
        "colab_type": "text"
      },
      "source": [
        "# Descpriptive table for exam costs at Superscan Diagnostics\n",
        "only reports back 24 counts "
      ]
    },
    {
      "cell_type": "code",
      "metadata": {
        "id": "xtrlZtOScY3c",
        "colab_type": "code",
        "colab": {
          "base_uri": "https://localhost:8080/",
          "height": 297
        },
        "outputId": "1973f81b-d084-41c2-ff40-a8859aa30f2a"
      },
      "source": [
        "df2.describe()          # describe all numeric columns \n",
        "df2.describe(include='all')     # describe all columns"
      ],
      "execution_count": 7,
      "outputs": [
        {
          "output_type": "execute_result",
          "data": {
            "text/html": [
              "<div>\n",
              "<style scoped>\n",
              "    .dataframe tbody tr th:only-of-type {\n",
              "        vertical-align: middle;\n",
              "    }\n",
              "\n",
              "    .dataframe tbody tr th {\n",
              "        vertical-align: top;\n",
              "    }\n",
              "\n",
              "    .dataframe thead th {\n",
              "        text-align: right;\n",
              "    }\n",
              "</style>\n",
              "<table border=\"1\" class=\"dataframe\">\n",
              "  <thead>\n",
              "    <tr style=\"text-align: right;\">\n",
              "      <th></th>\n",
              "      <th>exam_cost</th>\n",
              "    </tr>\n",
              "  </thead>\n",
              "  <tbody>\n",
              "    <tr>\n",
              "      <th>count</th>\n",
              "      <td>24.000000</td>\n",
              "    </tr>\n",
              "    <tr>\n",
              "      <th>mean</th>\n",
              "      <td>570.198124</td>\n",
              "    </tr>\n",
              "    <tr>\n",
              "      <th>std</th>\n",
              "      <td>58.846163</td>\n",
              "    </tr>\n",
              "    <tr>\n",
              "      <th>min</th>\n",
              "      <td>472.066190</td>\n",
              "    </tr>\n",
              "    <tr>\n",
              "      <th>25%</th>\n",
              "      <td>543.972746</td>\n",
              "    </tr>\n",
              "    <tr>\n",
              "      <th>50%</th>\n",
              "      <td>559.221494</td>\n",
              "    </tr>\n",
              "    <tr>\n",
              "      <th>75%</th>\n",
              "      <td>601.039583</td>\n",
              "    </tr>\n",
              "    <tr>\n",
              "      <th>max</th>\n",
              "      <td>718.278333</td>\n",
              "    </tr>\n",
              "  </tbody>\n",
              "</table>\n",
              "</div>"
            ],
            "text/plain": [
              "        exam_cost\n",
              "count   24.000000\n",
              "mean   570.198124\n",
              "std     58.846163\n",
              "min    472.066190\n",
              "25%    543.972746\n",
              "50%    559.221494\n",
              "75%    601.039583\n",
              "max    718.278333"
            ]
          },
          "metadata": {
            "tags": []
          },
          "execution_count": 7
        }
      ]
    },
    {
      "cell_type": "markdown",
      "metadata": {
        "id": "dRCZl7YzktpT",
        "colab_type": "text"
      },
      "source": [
        "# Create a box plot of exam cost for this practice. "
      ]
    },
    {
      "cell_type": "code",
      "metadata": {
        "id": "Rlx7IIxENCXs",
        "colab_type": "code",
        "colab": {
          "base_uri": "https://localhost:8080/",
          "height": 351
        },
        "outputId": "1cc67ed7-b5bb-4f8d-d6f8-46b88291fd9d"
      },
      "source": [
        "import seaborn as sns\n",
        "sns.boxplot(x=df['exam_cost'])"
      ],
      "execution_count": 5,
      "outputs": [
        {
          "output_type": "stream",
          "text": [
            "/usr/local/lib/python3.6/dist-packages/statsmodels/tools/_testing.py:19: FutureWarning: pandas.util.testing is deprecated. Use the functions in the public API at pandas.testing instead.\n",
            "  import pandas.util.testing as tm\n"
          ],
          "name": "stderr"
        },
        {
          "output_type": "execute_result",
          "data": {
            "text/plain": [
              "<matplotlib.axes._subplots.AxesSubplot at 0x7f53ecce5978>"
            ]
          },
          "metadata": {
            "tags": []
          },
          "execution_count": 5
        },
        {
          "output_type": "display_data",
          "data": {
            "image/png": "[encoded data removed]",
            "text/plain": [
              "<Figure size 432x288 with 1 Axes>"
            ]
          },
          "metadata": {
            "tags": [],
            "needs_background": "light"
          }
        }
      ]
    },
    {
      "cell_type": "code",
      "metadata": {
        "id": "gT7s-xE1_unc",
        "colab_type": "code",
        "colab": {
          "base_uri": "https://localhost:8080/",
          "height": 297
        },
        "outputId": "b15b69d6-1424-43c1-b358-87b7ed66c22a"
      },
      "source": [
        "import seaborn as sns\n",
        "sns.boxplot(x=df2['exam_cost'])"
      ],
      "execution_count": 7,
      "outputs": [
        {
          "output_type": "execute_result",
          "data": {
            "text/plain": [
              "<matplotlib.axes._subplots.AxesSubplot at 0x7f558adeada0>"
            ]
          },
          "metadata": {
            "tags": []
          },
          "execution_count": 7
        },
        {
          "output_type": "display_data",
          "data": {
            "image/png": "[encoded data removed]",
            "text/plain": [
              "<Figure size 432x288 with 1 Axes>"
            ]
          },
          "metadata": {
            "tags": [],
            "needs_background": "light"
          }
        }
      ]
    },
    {
      "cell_type": "markdown",
      "metadata": {
        "id": "xPQYEXSLqJYP",
        "colab_type": "text"
      },
      "source": [
        "Outliers are above 700 could account for the exam cost that are at 900. \n"
      ]
    },
    {
      "cell_type": "markdown",
      "metadata": {
        "id": "tuurfExpSV4G",
        "colab_type": "text"
      },
      "source": [
        " # Create a visualization that displayes doctor_name at the x value with doctor name and y- values with costs. While part of the body will serve as the key. Allows me to see cost per doctor."
      ]
    },
    {
      "cell_type": "code",
      "metadata": {
        "id": "A4qIbWCRJB0F",
        "colab_type": "code",
        "colab": {
          "base_uri": "https://localhost:8080/",
          "height": 187
        },
        "outputId": "22bf8057-e578-41d8-950f-7f8e29ad199b"
      },
      "source": [
        "list(df)"
      ],
      "execution_count": 22,
      "outputs": [
        {
          "output_type": "execute_result",
          "data": {
            "text/plain": [
              "['service_number',\n",
              " 'service_zip',\n",
              " 'exam_date',\n",
              " 'exam_body_part',\n",
              " 'exam_cost',\n",
              " 'doctor_npi',\n",
              " 'doctor_name',\n",
              " 'patient_name',\n",
              " 'patient_birth_date',\n",
              " 'claimant_ssn']"
            ]
          },
          "metadata": {
            "tags": []
          },
          "execution_count": 22
        }
      ]
    },
    {
      "cell_type": "code",
      "metadata": {
        "id": "mEaw7alh_7vU",
        "colab_type": "code",
        "colab": {
          "base_uri": "https://localhost:8080/",
          "height": 639
        },
        "outputId": "ee24ef65-4f06-447b-b1d3-fe5eb36884d3"
      },
      "source": [
        "###-Plot1\n",
        "import matplotlib.pyplot as plt\n",
        "plt.figure(figsize=(10,10))\n",
        "\n",
        "ax = sns.lineplot(x='doctor_name', y=\"exam_cost\",hue=\"exam_body_part\",markers=True, dashes=False, data=df)\n",
        "ax.set_title('Exam Costs by doctor and body part')"
      ],
      "execution_count": 23,
      "outputs": [
        {
          "output_type": "execute_result",
          "data": {
            "text/plain": [
              "Text(0.5, 1.0, 'Exam Costs by doctor and body part')"
            ]
          },
          "metadata": {
            "tags": []
          },
          "execution_count": 23
        },
        {
          "output_type": "display_data",
          "data": {
            "image/png": "[encoded data removed]",
            "text/plain": [
              "<Figure size 720x720 with 1 Axes>"
            ]
          },
          "metadata": {
            "tags": [],
            "needs_background": "light"
          }
        }
      ]
    },
    {
      "cell_type": "code",
      "metadata": {
        "id": "x1J4ioTJn5Jd",
        "colab_type": "code",
        "colab": {
          "base_uri": "https://localhost:8080/",
          "height": 514
        },
        "outputId": "e2c56b00-a4ab-4c8e-9197-254353720a53"
      },
      "source": [
        "### plot 2 - BY SPECIALTY WITHIN Superscan diagnostics\n",
        "import matplotlib.pyplot as plt\n",
        "plt.figure(figsize=(15,8))\n",
        "sns.countplot(y=\"doctor_name\", hue=\"exam_body_part\", data=df, palette=\"coolwarm\")"
      ],
      "execution_count": 8,
      "outputs": [
        {
          "output_type": "execute_result",
          "data": {
            "text/plain": [
              "<matplotlib.axes._subplots.AxesSubplot at 0x7f55ab089898>"
            ]
          },
          "metadata": {
            "tags": []
          },
          "execution_count": 8
        },
        {
          "output_type": "display_data",
          "data": {
            "image/png": "[encoded data removed]",
            "text/plain": [
              "<Figure size 1080x576 with 1 Axes>"
            ]
          },
          "metadata": {
            "tags": [],
            "needs_background": "light"
          }
        }
      ]
    },
    {
      "cell_type": "code",
      "metadata": {
        "id": "oo8GgljRW4vV",
        "colab_type": "code",
        "colab": {
          "base_uri": "https://localhost:8080/",
          "height": 639
        },
        "outputId": "b7c86534-19f0-4089-e43a-e4795e61b5db"
      },
      "source": [
        "### Plot3\n",
        "import matplotlib.pyplot as plt\n",
        "plt.figure(figsize=(10,10))\n",
        "\n",
        "ax = sns.lineplot(x='service_zip', y=\"exam_cost\",hue=\"exam_body_part\",markers=True, dashes=False, data=df)\n",
        "ax.set_title('Exam Costs by service zip and body part')"
      ],
      "execution_count": 24,
      "outputs": [
        {
          "output_type": "execute_result",
          "data": {
            "text/plain": [
              "Text(0.5, 1.0, 'Exam Costs by service zip and body part')"
            ]
          },
          "metadata": {
            "tags": []
          },
          "execution_count": 24
        },
        {
          "output_type": "display_data",
          "data": {
            "image/png": "[encoded data removed]",
            "text/plain": [
              "<Figure size 720x720 with 1 Axes>"
            ]
          },
          "metadata": {
            "tags": [],
            "needs_background": "light"
          }
        }
      ]
    }
  ]
}